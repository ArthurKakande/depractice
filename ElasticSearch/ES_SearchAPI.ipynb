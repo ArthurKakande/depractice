{
  "nbformat": 4,
  "nbformat_minor": 0,
  "metadata": {
    "colab": {
      "provenance": []
    },
    "kernelspec": {
      "name": "python3",
      "display_name": "Python 3"
    },
    "language_info": {
      "name": "python"
    }
  },
  "cells": [
    {
      "cell_type": "code",
      "source": [
        "!pip install elasticsearch"
      ],
      "metadata": {
        "id": "AfNPQxYnIAGZ"
      },
      "execution_count": null,
      "outputs": []
    },
    {
      "cell_type": "code",
      "source": [
        "#connecting to a server\n",
        "from pprint import pprint\n",
        "from elasticsearch import Elasticsearch\n",
        "\n",
        "es = Elasticsearch('http://localhost:9200')\n",
        "client_info = es.info()\n",
        "print('Connected to Elasticsearch!')\n",
        "pprint(client_info.body)"
      ],
      "metadata": {
        "id": "2UUqH218IFMM"
      },
      "execution_count": null,
      "outputs": []
    },
    {
      "cell_type": "code",
      "source": [
        "#checking if index exists\n",
        "response = es.indices.exists(index='AfricGenderData')\n",
        "response.body #this should return true"
      ],
      "metadata": {
        "id": "kORHIbOHIUR0"
      },
      "execution_count": null,
      "outputs": []
    },
    {
      "cell_type": "code",
      "execution_count": null,
      "metadata": {
        "id": "z93LHoQLH-tZ"
      },
      "outputs": [],
      "source": [
        "#Using the search API\n",
        "response = es.search(\n",
        "    index='AfrciaGenderData',\n",
        "    body={\n",
        "        \"query\": {\"match_all\": {}}\n",
        "    }\n",
        ")\n",
        "\n",
        "n_hits = response['hits']['total']['value']\n",
        "print(f\"Found {n_hits} documents in index_1\")\n",
        "\n",
        "#Search in all indicies starting with index\n",
        "response = es.search(\n",
        "    index='index*', #alternative index='index_1,index_2',\n",
        "    body={\n",
        "        \"query\": {\"match_all\": {}}\n",
        "    }\n",
        ")\n",
        "\n",
        "n_hits = response['hits']['total']['value']\n",
        "print(f\"Found {n_hits} documents in all indexes with name starting with 'index'\")\n",
        "\n",
        "#Search in all indicies available\n",
        "response = es.search(\n",
        "    index='_all',\n",
        "    body={\n",
        "        \"query\": {\"match_all\": {}}\n",
        "    }\n",
        ")\n",
        "\n",
        "n_hits = response['hits']['total']['value']\n",
        "print(f\"Found {n_hits} documents in all indexes\")"
      ]
    },
    {
      "cell_type": "code",
      "source": [
        "#lokking for documents with a specific date\n",
        "response = es.search(\n",
        "    index='AfricaGenderData',\n",
        "    body={\n",
        "        \"query\": {\n",
        "            \"term\": {\n",
        "                \"created_on\": \"2024-09-22\"\n",
        "            }\n",
        "        }\n",
        "    }\n",
        ")\n",
        "\n",
        "n_hits = response['hits']['total']['value']\n",
        "print(f\"Found {n_hits} documents in the index\""
      ],
      "metadata": {
        "id": "-XL6ayTaIY2O"
      },
      "execution_count": null,
      "outputs": []
    },
    {
      "cell_type": "code",
      "source": [
        "#View retrieved documents\n",
        "retrieved_documents = response['hits']['hits']\n",
        "retrieved_documents\n"
      ],
      "metadata": {
        "id": "hdFObDJ9I385"
      },
      "execution_count": null,
      "outputs": []
    },
    {
      "cell_type": "code",
      "source": [
        "#Retrieve any documents that contian the term\n",
        "response = es.search(\n",
        "    index='AfricaGenderData',\n",
        "    body={\n",
        "        \"query\": {\n",
        "            \"match\": {\n",
        "                \"text\": \"document\"\n",
        "            }\n",
        "        }\n",
        "    }\n",
        ")\n",
        "\n",
        "n_hits = response['hits']['total']['value']\n",
        "print(f\"Found {n_hits} documents in the index\")"
      ],
      "metadata": {
        "id": "D5XiCt9qJFRt"
      },
      "execution_count": null,
      "outputs": []
    },
    {
      "cell_type": "code",
      "source": [
        "#retrieving those created before a specific date\n",
        "response = es.search(\n",
        "    index='AfricaGenderData',\n",
        "    body={\n",
        "        \"query\": {\n",
        "            \"range\": {\n",
        "                \"created_on\": {\n",
        "                    \"lte\": \"2024-09-23\" #\n",
        "                }\n",
        "            }\n",
        "        }\n",
        "    }\n",
        ")\n",
        "\n",
        "n_hits = response['hits']['total']['value']\n",
        "print(f\"Found {n_hits} documents in my_index\")"
      ],
      "metadata": {
        "id": "kLh5ENAhJYkw"
      },
      "execution_count": null,
      "outputs": []
    },
    {
      "cell_type": "code",
      "source": [
        "#combining multiple criteria\n",
        "response = es.search(\n",
        "    index='AfricaGenderData',\n",
        "    body={\n",
        "        \"query\": {\n",
        "            \"bool\": {\n",
        "                \"must\": [\n",
        "                    {\n",
        "                        \"match\": {\n",
        "                            \"text\": \"education\"\n",
        "                        }\n",
        "                    },\n",
        "                    {\n",
        "                        \"range\": {\n",
        "                            \"created_on\": {\n",
        "                                \"gte\": \"2024-09-24\", #greter than equal\n",
        "                                \"lte\": \"2024-09-24\"  #less than equal\n",
        "                            }\n",
        "                        }\n",
        "                    }\n",
        "                ]\n",
        "            }\n",
        "        }\n",
        "    }\n",
        ")\n",
        "\n",
        "n_hits = response['hits']['total']['value']\n",
        "print(f\"Found {n_hits} documents in my_index\")"
      ],
      "metadata": {
        "id": "CTLRvdPUJoNE"
      },
      "execution_count": null,
      "outputs": []
    },
    {
      "cell_type": "code",
      "source": [
        "#retrieving 10 documents stating with the 11th results\n",
        "response = es.search(\n",
        "    index=\"AfricaGenderData\",\n",
        "    body={\n",
        "        \"query\": {\n",
        "            \"match_all\": {}\n",
        "        },\n",
        "        \"size\": 10,\n",
        "        \"from\": 10\n",
        "    },\n",
        ")\n",
        "\n",
        "for hit in response['hits']['hits']:\n",
        "    print(hit['_source'])"
      ],
      "metadata": {
        "id": "A8sNOguKL0H3"
      },
      "execution_count": null,
      "outputs": []
    },
    {
      "cell_type": "code",
      "source": [
        "#Adding a timeout to the search\n",
        "response = es.search(\n",
        "    index=\"AfricaGenderData\",\n",
        "    body={\n",
        "        \"query\": {\n",
        "            \"match\": {\n",
        "                \"message\": \"search keyword\"\n",
        "            }\n",
        "        },\n",
        "        \"timeout\": \"10s\"\n",
        "    },\n",
        ")\n",
        "\n",
        "response.body"
      ],
      "metadata": {
        "id": "C3h4b3ShL_hT"
      },
      "execution_count": null,
      "outputs": []
    },
    {
      "cell_type": "code",
      "source": [
        "#adding aggregation e.g all documents with an avg\n",
        "response = es.search(\n",
        "    index=\"AfricaGenderData\",\n",
        "    body={\n",
        "        \"query\": {\n",
        "            \"match_all\": {}\n",
        "        },\n",
        "        \"aggs\": {\n",
        "            \"avg_age\": {\n",
        "                \"avg\": {\n",
        "                    \"field\": \"age\"\n",
        "                }\n",
        "            }\n",
        "        }\n",
        "    }\n",
        ")\n",
        "\n",
        "average_age = response['aggregations']['avg_age']['value']\n",
        "print(f\"Average Age: {average_age}\")"
      ],
      "metadata": {
        "id": "f0xHSjnwML4s"
      },
      "execution_count": null,
      "outputs": []
    },
    {
      "cell_type": "code",
      "source": [
        "#combining agg, timeout, size and from\n",
        "response = es.search(\n",
        "    index=\"AfricaGenderData\",\n",
        "    body={\n",
        "        \"query\": {\n",
        "            \"match\": {\n",
        "                \"message\": \"important keyword\"\n",
        "            }\n",
        "        },\n",
        "        \"aggs\": {\n",
        "            \"max_price\": {\n",
        "                \"max\": {\n",
        "                    \"field\": \"price\"\n",
        "                }\n",
        "            }\n",
        "        },\n",
        "        \"size\": 5,\n",
        "        \"from\": 20,\n",
        "        \"timeout\": \"5s\"\n",
        "    },\n",
        ")\n",
        "\n",
        "for hit in response['hits']['hits']:\n",
        "    print(hit['_source'])\n",
        "\n",
        "max_price = response['aggregations']['max_price']['value']\n",
        "print(f\"Max Price: {max_price}\")"
      ],
      "metadata": {
        "id": "C1zV5SsLMizy"
      },
      "execution_count": null,
      "outputs": []
    },
    {
      "cell_type": "code",
      "source": [
        "#Using vector search\n",
        "from pprint import pprint\n",
        "\n",
        "query = \"What is a black hole?\"\n",
        "embedded_query = get_embedding(query) #embed the query\n",
        "\n",
        "result = es.search(\n",
        "    index='my_index',\n",
        "    knn={\n",
        "        \"field\": \"embedding\",\n",
        "        \"query_vector\": embedded_query,\n",
        "        \"num_candidates\": 5,\n",
        "        \"k\": 3, #number of nearest neighbours\n",
        "    }\n",
        ")\n",
        "\n",
        "n_documents = result.body[\"hits\"][\"total\"][\"value\"]\n",
        "print(f\"Found {n_documents} documents\")"
      ],
      "metadata": {
        "id": "dFAUBhs5McI-"
      },
      "execution_count": null,
      "outputs": []
    },
    {
      "cell_type": "code",
      "source": [
        "#loading docs\n",
        "documents = 0\n",
        "\n",
        "#loading the docs in bulk\n",
        "from tqdm import tqdm\n",
        "\n",
        "operations = []\n",
        "for document in tqdm(documents, total=len(documents)):\n",
        "    operations.append({'index': {'_index': AfricaGenderData}})\n",
        "    operations.append(document)\n",
        "\n",
        "response = es.bulk(operations=operations)\n",
        "pprint(response.body[\"errors\"])\n",
        "\n",
        "#refreshing the index after loading\n",
        "es.indices.refresh(index=AfricaGednerData)\n",
        "\n",
        "count = es.count(index=AfricaGenderDat)[\"count\"]\n",
        "print(f\"Indexed {count} documents\")"
      ],
      "metadata": {
        "id": "WHuEEQS3dye-"
      },
      "execution_count": null,
      "outputs": []
    },
    {
      "cell_type": "code",
      "source": [
        "#Pagination\n",
        "response = es.search(\n",
        "    index=AfricaGenderData,\n",
        "    body={\n",
        "        \"from\": 0, #starting from the 0\n",
        "        \"size\": 10, #return 10\n",
        "        \"sort\": [\n",
        "            {\"timestamp\": \"desc\"}, #sorting\n",
        "            {\"id\": \"desc\"}\n",
        "        ]\n",
        "    }\n",
        ")\n",
        "\n",
        "hits = response[\"hits\"][\"hits\"]\n",
        "for hit in hits:\n",
        "    print(f\"ID: {hit['_source']['id']}\")"
      ],
      "metadata": {
        "id": "nXwiqvrzeStU"
      },
      "execution_count": null,
      "outputs": []
    },
    {
      "cell_type": "code",
      "source": [
        "#search after\n",
        "response = es.search(\n",
        "    index=AfricaGenderData,\n",
        "    body={\n",
        "        \"size\": 10, #number of results\n",
        "        \"sort\": [\n",
        "            {\"timestamp\": \"desc\"}, #sorting criteria, required for search after\n",
        "            {\"id\": \"desc\"}\n",
        "        ]\n",
        "    }\n",
        ")\n",
        "\n",
        "hits = response[\"hits\"][\"hits\"]\n",
        "for hit in hits:\n",
        "    print(f\"ID: {hit['_source']['id']}\")\n",
        "    print(f\"Sort values: {hit['sort']}\")\n",
        "    print()"
      ],
      "metadata": {
        "id": "whbubJ8je_oG"
      },
      "execution_count": null,
      "outputs": []
    },
    {
      "cell_type": "code",
      "source": [
        "#continuing the search after to start where you stopped\n",
        "last_sort_values = hits[-1][\"sort\"]\n",
        "response = es.search(\n",
        "    index=AfricaGenderData,\n",
        "    body={\n",
        "        \"size\": 10,\n",
        "        \"sort\": [\n",
        "            {\"timestamp\": \"desc\"},\n",
        "            {\"id\": \"desc\"}\n",
        "        ],\n",
        "        \"search_after\": last_sort_values\n",
        "    }\n",
        ")\n",
        "\n",
        "hits = response[\"hits\"][\"hits\"]\n",
        "for hit in hits:\n",
        "    print(f\"ID: {hit['_source']['id']}\")\n",
        "    print(f\"Sort values: {hit['sort']}\")\n",
        "    print()"
      ],
      "metadata": {
        "id": "Fsu-91tqfUum"
      },
      "execution_count": null,
      "outputs": []
    },
    {
      "cell_type": "code",
      "source": [
        "#Ingest pipeline - pipeline creation\n",
        "from pprint import pprint\n",
        "\n",
        "response = es.ingest.put_pipeline(\n",
        "    id='lowercase_pipeline',\n",
        "    description='This pipeline transforms the text to lowercase',\n",
        "    processors=[\n",
        "        {\n",
        "            \"lowercase\": {\n",
        "                \"field\": \"text\"\n",
        "            }\n",
        "        }\n",
        "    ]\n",
        ")\n",
        "pprint(response.body)\n",
        "\n",
        "#Getting the pipeline\n",
        "response = es.ingest.get_pipeline(id='lowercase_pipeline')\n",
        "pprint(response.body)\n",
        "\n",
        "#deleting the pipeline\n",
        "response = es.ingest.delete_pipeline(id='lowercase_pipeline')\n",
        "pprint(response.body)"
      ],
      "metadata": {
        "id": "_jIV9zO2lhtm"
      },
      "execution_count": null,
      "outputs": []
    },
    {
      "cell_type": "code",
      "source": [
        "#Testing the pipeline before use\n",
        "response = es.ingest.put_pipeline(\n",
        "    id='lowercase_pipeline',\n",
        "    description='This pipeline transforms the text to lowercase',\n",
        "    processors=[\n",
        "        {\n",
        "            \"lowercase\": {\n",
        "                \"field\": \"text\"\n",
        "            }\n",
        "        }\n",
        "    ]\n",
        ")\n",
        "pprint(response.body)\n",
        "\n",
        "#simulate\n",
        "response = es.ingest.simulate(\n",
        "    id='lowercase_pipeline',\n",
        "    docs=[\n",
        "        {\n",
        "            \"_index\": \"my_index\",\n",
        "            \"_id\": \"1\",\n",
        "            \"_source\": {\n",
        "                \"text\": \"HELLO WORLD\"\n",
        "            }\n",
        "        }\n",
        "    ]\n",
        ")\n",
        "pprint(response.body)\n",
        "\n",
        "#Applying the pipeline on an insert bulk\n",
        "operations = []\n",
        "for document in dummy_data:\n",
        "    operations.append({'index': {'_index': 'my_index'}})\n",
        "    operations.append(document)\n",
        "\n",
        "response = es.bulk(operations=operations, pipeline='lowercase_pipeline')\n",
        "pprint(response.body)"
      ],
      "metadata": {
        "id": "wq82JE7Jl5s0"
      },
      "execution_count": null,
      "outputs": []
    },
    {
      "cell_type": "code",
      "source": [
        "#Pipeline failure handling\n",
        "response = es.ingest.put_pipeline(\n",
        "    id='pipeline_1',\n",
        "    description='Pipeline with multiple transformations',\n",
        "    processors=[\n",
        "        {\n",
        "            \"lowercase\": {\n",
        "                \"field\": \"text\",\n",
        "            }\n",
        "        },\n",
        "        {\n",
        "            \"set\": {\n",
        "                \"field\": \"text\",\n",
        "                \"value\": \"CHANGED BY PIPELINE\",\n",
        "            }\n",
        "        },\n",
        "    ]\n",
        ")\n",
        "pprint(response.body)\n",
        "\n",
        "#this operation fails, no text field\n",
        "document = {\n",
        "    'title': 'Sample Title 4',\n",
        "    'created_on': '2024-09-25',\n",
        "}\n",
        "\n",
        "response = es.index(\n",
        "    index='my_index',\n",
        "    pipeline='pipeline_1',\n",
        "    body=document\n",
        ")\n",
        "pprint(response.body)\n",
        "\n",
        "#setting it to ignore\n",
        "response = es.ingest.put_pipeline(\n",
        "    id='pipeline_2',\n",
        "    description='Pipeline with multiple transformations, handling and ignoring failures',\n",
        "    processors=[\n",
        "        {\n",
        "            \"lowercase\": {\n",
        "                \"field\": \"text\",\n",
        "                \"on_failure\": [\n",
        "                    {\n",
        "                        \"set\": {\n",
        "                            \"field\": \"text\",\n",
        "                            \"value\": \"FAILED TO LOWERCASE\",\n",
        "                            \"ignore_failure\": True,\n",
        "                        }\n",
        "                    }\n",
        "                ]\n",
        "            }\n",
        "        },\n",
        "        {\n",
        "            \"set\": {\n",
        "                \"field\": \"new_field\",\n",
        "                \"value\": \"ADDED BY PIPELINE\",\n",
        "                \"ignore_failure\": True,\n",
        "            }\n",
        "        },\n",
        "    ]\n",
        ")\n",
        "pprint(response.body)"
      ],
      "metadata": {
        "id": "H8lzUNiImls0"
      },
      "execution_count": null,
      "outputs": []
    },
    {
      "cell_type": "code",
      "source": [
        "#Ingest Processors\n",
        "document = {\n",
        "    \"price\": \"100.50\",\n",
        "    \"old_name\": \"old_value\",\n",
        "    \"description\": \"<p>This is a description with HTML.</p>\",\n",
        "    \"username\": \"UserNAME\",\n",
        "    \"category\": \"books\",\n",
        "    \"title\": \"   Example Title with Whitespace   \",\n",
        "    \"tags\": \"tag1,tag2,tag3\",\n",
        "    \"temporary_field\": \"This field should be removed\"\n",
        "}\n",
        "\n",
        "#pipeline example\n",
        "pipeline_body = {\n",
        "    \"description\": \"Pipeline to demonstrate various ingest processors\",\n",
        "    \"processors\": [\n",
        "        {\n",
        "            \"convert\": {\n",
        "                \"field\": \"price\",\n",
        "                \"type\": \"float\",\n",
        "                \"ignore_missing\": True\n",
        "            }\n",
        "        },\n",
        "        {\n",
        "            \"rename\": {\n",
        "                \"field\": \"old_name\",\n",
        "                \"target_field\": \"new_name\"\n",
        "            }\n",
        "        },\n",
        "        {\n",
        "            \"set\": {\n",
        "                \"field\": \"status\",\n",
        "                \"value\": \"active\"\n",
        "            }\n",
        "        },\n",
        "        {\n",
        "            \"html_strip\": {\n",
        "                \"field\": \"description\"\n",
        "            }\n",
        "        },\n",
        "        {\n",
        "            \"lowercase\": {\n",
        "                \"field\": \"username\"\n",
        "            }\n",
        "        },\n",
        "        {\n",
        "            \"uppercase\": {\n",
        "                \"field\": \"category\"\n",
        "            }\n",
        "        },\n",
        "        {\n",
        "            \"trim\": {\n",
        "                \"field\": \"title\"\n",
        "            }\n",
        "        },\n",
        "        {\n",
        "            \"split\": {\n",
        "                \"field\": \"tags\",\n",
        "                \"separator\": \",\"\n",
        "            }\n",
        "        },\n",
        "        {\n",
        "            \"remove\": {\n",
        "                \"field\": \"temporary_field\"\n",
        "            }\n",
        "        },\n",
        "        {\n",
        "            \"append\": {\n",
        "                \"field\": \"tags\",\n",
        "                \"value\": [\"new_tag\"]\n",
        "            }\n",
        "        }\n",
        "    ]\n",
        "}\n",
        "\n",
        "pipeline_id = \"example pipeline\"\n",
        "es.ingest.put_pipeline(id=pipeline_id, body=pipeline_body)\n",
        "print(f\"Pipeline '{pipeline_id}' created successfully!\")"
      ],
      "metadata": {
        "id": "17ymQ_hFie-o"
      },
      "execution_count": null,
      "outputs": []
    },
    {
      "cell_type": "markdown",
      "source": [
        "#Pipeline Function\n",
        "Convert: Changes the data type of a field.\n",
        "Rename: Changes the name of a field.\n",
        "Set: Assigns a specified value to a field.\n",
        "HTML Strip: Strips HTML tags from a field's content.\n",
        "Lowercase: Transforms the text in a field to lowercase.\n",
        "Uppercase: Transforms the text in a field to uppercase.\n",
        "Trim: Removes whitespace from the beginning and end of a field's value.\n",
        "Split: Divides the field content into an array, using a comma , as the delimiter.\n",
        "Remove: Deletes a field from the document.\n",
        "Append: Adds a value to an array field.\n",
        "\n"
      ],
      "metadata": {
        "id": "OZl0E6dJkVGD"
      }
    },
    {
      "cell_type": "code",
      "source": [
        "#Using the pipeline\n",
        "from pprint import pprint\n",
        "\n",
        "es.indices.delete(index='my_index', ignore_unavailable=True)\n",
        "es.indices.create(index='my_index') #create index\n",
        "\n",
        "response = es.index(index=\"my_index\", document=document, pipeline=pipeline_id) #add the document and run it through the pipeline\n",
        "pprint(response.body)"
      ],
      "metadata": {
        "id": "Vtzp_gp6i9SX"
      },
      "execution_count": null,
      "outputs": []
    },
    {
      "cell_type": "code",
      "source": [
        "#Multiple filters\n",
        "response = es.search(\n",
        "    index=\"my_index\",\n",
        "    body={\n",
        "        \"query\": {\n",
        "            \"bool\": {\n",
        "                \"filter\": [\n",
        "                    {\n",
        "                        \"term\": {\n",
        "                            \"color\": \"yellow\" #color is yellow and brand is addidas\n",
        "                        }\n",
        "                    },\n",
        "                    {\n",
        "                        \"term\": {\n",
        "                            \"brand\": \"adidas\"\n",
        "                        }\n",
        "                    }\n",
        "                ]\n",
        "            }\n",
        "        },\n",
        "    },\n",
        ")\n",
        "\n",
        "hits = response.body['hits']['hits']\n",
        "print(f\"Found {len(hits)} documents\")"
      ],
      "metadata": {
        "id": "hkDzd0-Kqs15"
      },
      "execution_count": null,
      "outputs": []
    },
    {
      "cell_type": "code",
      "source": [
        "#Adding agregations to filters\n",
        "response = es.search(\n",
        "    index=\"my_index\",\n",
        "    body={\n",
        "        \"query\": {\n",
        "            \"bool\": {\n",
        "                \"filter\": {\n",
        "                    \"term\": {\n",
        "                        \"brand\": \"gucci\" #filter by gucci\n",
        "                    }\n",
        "                }\n",
        "            }\n",
        "        },\n",
        "        \"aggs\": {\n",
        "            \"colors\": {\n",
        "                \"terms\": {\n",
        "                    \"field\": \"color.keyword\" #count avalianle colors\n",
        "                }\n",
        "            },\n",
        "            \"color_red\": {\n",
        "                \"filter\": {\n",
        "                    \"term\": {\n",
        "                        \"color.keyword\": \"red\" #select and filter by red\n",
        "                    }\n",
        "                },\n",
        "                \"aggs\": {\n",
        "                    \"models\": {\n",
        "                        \"terms\": {\n",
        "                            \"field\": \"model.keyword\" #count available models\n",
        "                        }\n",
        "                    }\n",
        "                }\n",
        "            }\n",
        "        },\n",
        "        \"post_filter\": {\n",
        "            \"term\": {\n",
        "                \"color\": \"red\" #filter what to return\n",
        "            }\n",
        "        },\n",
        "        \"size\": 20\n",
        "    }\n",
        ")\n",
        "pprint(response.body)"
      ],
      "metadata": {
        "id": "f0AeJUyTq8K5"
      },
      "execution_count": null,
      "outputs": []
    },
    {
      "cell_type": "code",
      "source": [
        "#returning the agregations\n",
        "colors_aggregation = response.body['aggregations']['colors']['buckets']\n",
        "pprint(colors_aggregation)"
      ],
      "metadata": {
        "id": "NHOsttSwsExr"
      },
      "execution_count": null,
      "outputs": []
    },
    {
      "cell_type": "code",
      "source": [
        "color_red_aggregation = response.body['aggregations']['color_red']['models']['buckets']\n",
        "pprint(color_red_aggregation)"
      ],
      "metadata": {
        "id": "rjLaVhbSsL2p"
      },
      "execution_count": null,
      "outputs": []
    },
    {
      "cell_type": "code",
      "source": [],
      "metadata": {
        "id": "jrXcMeIvwLJG"
      },
      "execution_count": null,
      "outputs": []
    }
  ]
}