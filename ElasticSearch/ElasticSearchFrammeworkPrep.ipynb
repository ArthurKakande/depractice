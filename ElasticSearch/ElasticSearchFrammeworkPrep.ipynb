{
  "nbformat": 4,
  "nbformat_minor": 0,
  "metadata": {
    "colab": {
      "provenance": []
    },
    "kernelspec": {
      "name": "python3",
      "display_name": "Python 3"
    },
    "language_info": {
      "name": "python"
    }
  },
  "cells": [
    {
      "cell_type": "code",
      "source": [
        "!pip install elasticsearch"
      ],
      "metadata": {
        "colab": {
          "base_uri": "https://localhost:8080/"
        },
        "id": "Kjt0vc_sVx-X",
        "outputId": "29c7e726-3476-4e62-dd23-b73e1f44db68"
      },
      "execution_count": null,
      "outputs": [
        {
          "output_type": "stream",
          "name": "stdout",
          "text": [
            "Collecting elasticsearch\n",
            "  Downloading elasticsearch-9.0.0-py3-none-any.whl.metadata (8.5 kB)\n",
            "Collecting elastic-transport<9,>=8.15.1 (from elasticsearch)\n",
            "  Downloading elastic_transport-8.17.1-py3-none-any.whl.metadata (3.8 kB)\n",
            "Requirement already satisfied: python-dateutil in /usr/local/lib/python3.11/dist-packages (from elasticsearch) (2.8.2)\n",
            "Requirement already satisfied: typing-extensions in /usr/local/lib/python3.11/dist-packages (from elasticsearch) (4.13.2)\n",
            "Requirement already satisfied: urllib3<3,>=1.26.2 in /usr/local/lib/python3.11/dist-packages (from elastic-transport<9,>=8.15.1->elasticsearch) (2.3.0)\n",
            "Requirement already satisfied: certifi in /usr/local/lib/python3.11/dist-packages (from elastic-transport<9,>=8.15.1->elasticsearch) (2025.1.31)\n",
            "Requirement already satisfied: six>=1.5 in /usr/local/lib/python3.11/dist-packages (from python-dateutil->elasticsearch) (1.17.0)\n",
            "Downloading elasticsearch-9.0.0-py3-none-any.whl (895 kB)\n",
            "\u001b[2K   \u001b[90m━━━━━━━━━━━━━━━━━━━━━━━━━━━━━━━━━━━━━━━━\u001b[0m \u001b[32m895.8/895.8 kB\u001b[0m \u001b[31m12.1 MB/s\u001b[0m eta \u001b[36m0:00:00\u001b[0m\n",
            "\u001b[?25hDownloading elastic_transport-8.17.1-py3-none-any.whl (64 kB)\n",
            "\u001b[2K   \u001b[90m━━━━━━━━━━━━━━━━━━━━━━━━━━━━━━━━━━━━━━━━\u001b[0m \u001b[32m65.0/65.0 kB\u001b[0m \u001b[31m4.8 MB/s\u001b[0m eta \u001b[36m0:00:00\u001b[0m\n",
            "\u001b[?25hInstalling collected packages: elastic-transport, elasticsearch\n",
            "Successfully installed elastic-transport-8.17.1 elasticsearch-9.0.0\n"
          ]
        }
      ]
    },
    {
      "cell_type": "code",
      "execution_count": null,
      "metadata": {
        "id": "Z9X5cSm1UbZs"
      },
      "outputs": [],
      "source": [
        "#connecting to a server\n",
        "from pprint import pprint\n",
        "from elasticsearch import Elasticsearch\n",
        "\n",
        "es = Elasticsearch('http://localhost:9200')\n",
        "client_info = es.info()\n",
        "print('Connected to Elasticsearch!')\n",
        "pprint(client_info.body)"
      ]
    },
    {
      "cell_type": "code",
      "source": [
        "##Creating an index with replication and document set up\n",
        "es.indices.delete(index='AfricaGenderData', ignore_unavailable=True)\n",
        "es.indices.create(\n",
        "    index=\"AfricaGenderData\",\n",
        "    settings={\n",
        "        \"index\": {\n",
        "            \"number_of_shards\": 3,  # how many pieces the data is split into\n",
        "            \"number_of_replicas\": 2  # how many copies of the data\n",
        "        }\n",
        "    },\n",
        ")"
      ],
      "metadata": {
        "id": "CR--MnEIU1Zf"
      },
      "execution_count": null,
      "outputs": []
    },
    {
      "cell_type": "code",
      "source": [
        "document = {\n",
        "    'title': 'title',\n",
        "    'description': 'text',\n",
        "    'level': '2024-09-22',\n",
        "    'geo': 'Africa',\n",
        "    'link': 'Female',\n",
        "    'source': 'Male'\n",
        "}\n",
        "response = es.index(index='AfricaGenderData', body=document)\n",
        "response"
      ],
      "metadata": {
        "id": "q3J1fu_4VOZh"
      },
      "execution_count": null,
      "outputs": []
    },
    {
      "cell_type": "code",
      "source": [
        "#confirming\n",
        "print(response[\"result\"])\n",
        "print(response[\"_shards\"])\n",
        "print(response[\"_id\"])\n",
        "print(response[\"_index\"])"
      ],
      "metadata": {
        "id": "RHF22ZJ8ZEqw"
      },
      "execution_count": null,
      "outputs": []
    },
    {
      "cell_type": "code",
      "source": [
        "#Using a json source\n",
        "import json\n",
        "\n",
        "agdp_data = json.load(open(\"../data/agdp_data.json\"))\n",
        "agdp_data"
      ],
      "metadata": {
        "id": "Q8zeNCidZeXH"
      },
      "execution_count": null,
      "outputs": []
    },
    {
      "cell_type": "code",
      "source": [
        "#function to print after inserting\n",
        "def insert_document(document):\n",
        "    response = es.index(index='AfricaGenderData', body=document)\n",
        "    return response\n",
        "\n",
        "\n",
        "def print_info(response):\n",
        "    print(f\"\"\"Document ID: {response['_id']} is '{\n",
        "          response[\"result\"]}' and is split into {response['_shards']['total']} shards.\"\"\")\n",
        "\n",
        "\n",
        "for document in agdp_data:\n",
        "    response = insert_document(document)\n",
        "    print_info(response)"
      ],
      "metadata": {
        "id": "rvPLd3B8Zur2"
      },
      "execution_count": null,
      "outputs": []
    },
    {
      "cell_type": "code",
      "source": [
        "#check the mapping\n",
        "from pprint import pprint\n",
        "\n",
        "index_mapping = es.indices.get_mapping(index='AfricaGenderData')\n",
        "pprint(index_mapping[\"my_index\"][\"mappings\"][\"properties\"])"
      ],
      "metadata": {
        "id": "rWAt1oY7Z9X6"
      },
      "execution_count": null,
      "outputs": []
    },
    {
      "cell_type": "code",
      "source": [
        "#Mapping manually\n",
        "es.indices.delete(index='my_index', ignore_unavailable=True)\n",
        "es.indices.create(index='my_index')\n",
        "\n",
        "mapping = {\n",
        "    'properties': {\n",
        "        'created_on': {'type': 'date'},\n",
        "        'text': {\n",
        "            'type': 'text',\n",
        "            'fields': {\n",
        "                'keyword': {\n",
        "                    'type': 'keyword',\n",
        "                    'ignore_above': 256\n",
        "                }\n",
        "            }\n",
        "        },\n",
        "        'title': {\n",
        "            'type': 'text',\n",
        "            'fields': {\n",
        "                'keyword': {\n",
        "                    'type': 'keyword',\n",
        "                    'ignore_above': 256\n",
        "                }\n",
        "            }\n",
        "        }\n",
        "    }\n",
        "}\n",
        "\n",
        "es.indices.put_mapping(index='my_index', body=mapping)\n",
        "\n",
        "index_mapping = es.indices.get_mapping(index='my_index')\n",
        "pprint(index_mapping[\"my_index\"][\"mappings\"][\"properties\"])"
      ],
      "metadata": {
        "id": "kyE__EiWdDrh"
      },
      "execution_count": null,
      "outputs": []
    },
    {
      "cell_type": "code",
      "source": [
        "#Mapping Manually version 2\n",
        "mapping = {\n",
        "    'properties': {\n",
        "        'created_on': {'type': 'date'},\n",
        "        'text': {\n",
        "            'type': 'text',\n",
        "            'fields': {\n",
        "                'keyword': {\n",
        "                    'type': 'keyword',\n",
        "                    'ignore_above': 256\n",
        "                }\n",
        "            }\n",
        "        },\n",
        "        'title': {\n",
        "            'type': 'text',\n",
        "            'fields': {\n",
        "                'keyword': {\n",
        "                    'type': 'keyword',\n",
        "                    'ignore_above': 256\n",
        "                }\n",
        "            }\n",
        "        }\n",
        "    }\n",
        "}\n",
        "\n",
        "es.indices.delete(index='my_index', ignore_unavailable=True)\n",
        "es.indices.create(index='my_index', mappings=mapping)\n",
        "\n",
        "index_mapping = es.indices.get_mapping(index='my_index')\n",
        "pprint(index_mapping[\"my_index\"][\"mappings\"][\"properties\"])"
      ],
      "metadata": {
        "id": "A5_yYKabdI3a"
      },
      "execution_count": null,
      "outputs": []
    },
    {
      "cell_type": "code",
      "source": [
        "#deleting documents\n",
        "response = es.delete(index='AfricaGenderData', id=document_ids[0])\n",
        "#confirmation\n",
        "from pprint import pprint\n",
        "pprint(response.body)"
      ],
      "metadata": {
        "id": "IX02bcipg9A8"
      },
      "execution_count": null,
      "outputs": []
    },
    {
      "cell_type": "code",
      "source": [
        "#getting a document with id\n",
        "response = es.get(index='AfricaGenderData', id=document_ids[0])\n",
        "#printing it\n",
        "from pprint import pprint\n",
        "pprint(response.body)"
      ],
      "metadata": {
        "id": "GYFfqj7siOwX"
      },
      "execution_count": null,
      "outputs": []
    },
    {
      "cell_type": "code",
      "source": [
        "#count number of docs in index\n",
        "response = es.count(index='AfricaGenderData')\n",
        "count = response[\"count\"]\n",
        "\n",
        "print(f\"The number of documents in the index is {count}\")"
      ],
      "metadata": {
        "id": "H6IoFFQhjnjv"
      },
      "execution_count": null,
      "outputs": []
    },
    {
      "cell_type": "code",
      "source": [
        "#checking if index exists\n",
        "response = es.indices.exists(index='AfricGenderData')\n",
        "response.body #this should return true"
      ],
      "metadata": {
        "id": "uqsAAlPUU_9z"
      },
      "execution_count": null,
      "outputs": []
    },
    {
      "cell_type": "code",
      "source": [
        "#check if a document exists within the index\n",
        "import json\n",
        "from tqdm import tqdm\n",
        "\n",
        "document_ids = []\n",
        "dummy_data = json.load(open(\"../data/exampledata.json\"))\n",
        "for document in tqdm(dummy_data, total=len(dummy_data)):\n",
        "    response = es.index(index='my_index', body=document)\n",
        "    document_ids.append(response['_id'])\n",
        "\n",
        "response = es.exists(index='AfricaGenderData', id=document_ids[0])\n",
        "response.body #should return true"
      ],
      "metadata": {
        "id": "xSVEBdo_WlpX"
      },
      "execution_count": null,
      "outputs": []
    },
    {
      "cell_type": "code",
      "source": [
        "#updating a document\n",
        "from pprint import pprint\n",
        "\n",
        "response = es.update(\n",
        "    index=\"AfricaGenderData\",\n",
        "    id=document_ids[0],\n",
        "    script={\n",
        "        \"source\": \"ctx._source.title = params.title\",\n",
        "        \"params\": {\n",
        "            \"title\": \"New Title\"\n",
        "        }\n",
        "    },\n",
        ")\n",
        "pprint(response.body)\n",
        "\n",
        "#check the new updated title\n",
        "response = es.get(index='AfricaGenderData', id=document_ids[0])\n",
        "pprint(response.body)"
      ],
      "metadata": {
        "id": "otxQqEfcXE1Q"
      },
      "execution_count": null,
      "outputs": []
    },
    {
      "cell_type": "code",
      "source": [
        "#Adding a new field\n",
        "response = es.update(\n",
        "    index=\"AfricaGenderData\",\n",
        "    id=document_ids[0],\n",
        "    script={\n",
        "        \"source\": \"ctx._source.new_field = 'dummy_value'\",\n",
        "    },\n",
        ")\n",
        "pprint(response.body)\n",
        "\n",
        "#Alternative\n",
        "response = es.update(\n",
        "    index=\"AfricaGenderData\",\n",
        "    id=document_ids[0],\n",
        "    doc={\n",
        "        \"new_value_2\": \"dummy_value_2\",\n",
        "    },\n",
        ")\n",
        "pprint(response.body)\n",
        "\n",
        "#check the updated\n",
        "response = es.get(index='AfricaGenderData', id=document_ids[0])\n",
        "pprint(response.body)"
      ],
      "metadata": {
        "id": "5V3VxkGTZVBT"
      },
      "execution_count": null,
      "outputs": []
    },
    {
      "cell_type": "code",
      "source": [
        "#remvoing a field\n",
        "response = es.update(\n",
        "    index=\"AfricaGenderData\",\n",
        "    id=document_ids[0],\n",
        "    script={\n",
        "        \"source\": \"ctx._source.remove('new_field')\",\n",
        "    },\n",
        ")\n",
        "pprint(response.body)"
      ],
      "metadata": {
        "id": "_eIudNxUZe2o"
      },
      "execution_count": null,
      "outputs": []
    },
    {
      "cell_type": "code",
      "source": [
        "#inserting a document if it doesnt exist\n",
        "response = es.update(\n",
        "    index=\"AfricaGenderData\",\n",
        "    id=\"1\",\n",
        "    doc={\n",
        "        \"book_id\": 1234,\n",
        "        \"book_name\": \"A book\",\n",
        "    },\n",
        "    doc_as_upsert=True,\n",
        ")"
      ],
      "metadata": {
        "id": "_FpJiU7baKgP"
      },
      "execution_count": null,
      "outputs": []
    },
    {
      "cell_type": "code",
      "source": [
        "#doing multiple operations at once\n",
        "response = es.bulk(\n",
        "    operations=[\n",
        "        # Action 1\n",
        "        {\n",
        "            \"index\": {\n",
        "                \"_index\": \"AfricaGenderData\",\n",
        "                \"_id\": \"1\"\n",
        "            }\n",
        "        },\n",
        "        # Source 1\n",
        "        {\n",
        "            \"title\": \"Sample Title 1\",\n",
        "            \"text\": \"This is the first sample document text.\",\n",
        "            \"created_on\": \"2024-09-22\"\n",
        "        },\n",
        "        # Action 2\n",
        "        {\n",
        "            \"index\": {\n",
        "                \"_index\": \"my_index\",\n",
        "                \"_id\": \"2\"\n",
        "            }\n",
        "        },\n",
        "        # Source 2\n",
        "        {\n",
        "            \"title\": \"Sample Title 2\",\n",
        "            \"text\": \"Here is another example of a document.\",\n",
        "            \"created_on\": \"2024-09-24\"\n",
        "        },\n",
        "        # Action 3\n",
        "        {\n",
        "            \"index\": {\n",
        "                \"_index\": \"my_index\",\n",
        "                \"_id\": \"3\"\n",
        "            }\n",
        "        },\n",
        "        # Source 3\n",
        "        {\n",
        "            \"title\": \"Sample Title 3\",\n",
        "            \"text\": \"The content of the third document goes here.\",\n",
        "            \"created_on\": \"2024-09-24\"\n",
        "        },\n",
        "        # Action 4\n",
        "        {\n",
        "            \"update\": {\n",
        "                \"_id\": \"1\",\n",
        "                \"_index\": \"my_index\"\n",
        "            }\n",
        "        },\n",
        "        # Source 4\n",
        "        {\n",
        "            \"doc\": {\n",
        "                \"title\": \"New Title\"\n",
        "            }\n",
        "        },\n",
        "        # Action 5\n",
        "        {\n",
        "            \"update\": {\n",
        "                \"_id\": \"2\",\n",
        "                \"_index\": \"my_index\"\n",
        "            }\n",
        "        },\n",
        "        # Source 5\n",
        "        {\n",
        "            \"doc\": {\n",
        "                \"new_field\": \"dummy_value\"\n",
        "            }\n",
        "        },\n",
        "        # Action 6\n",
        "        {\n",
        "            \"delete\": {\n",
        "                \"_index\": \"my_index\",\n",
        "                \"_id\": \"3\"\n",
        "            }\n",
        "        },\n",
        "    ],\n",
        ")\n",
        "\n",
        "pprint(response.body)"
      ],
      "metadata": {
        "id": "NAIcAUOydCdb"
      },
      "execution_count": null,
      "outputs": []
    },
    {
      "cell_type": "code",
      "source": [
        "response.body[\"errors\"] #should be flase to show zero errors"
      ],
      "metadata": {
        "id": "IHa8yOoYdkDj"
      },
      "execution_count": null,
      "outputs": []
    },
    {
      "cell_type": "code",
      "source": [],
      "metadata": {
        "id": "nFwYC-gCfQVA"
      },
      "execution_count": null,
      "outputs": []
    }
  ]
}