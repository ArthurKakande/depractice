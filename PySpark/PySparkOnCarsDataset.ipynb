{
  "nbformat": 4,
  "nbformat_minor": 0,
  "metadata": {
    "colab": {
      "provenance": []
    },
    "kernelspec": {
      "name": "python3",
      "display_name": "Python 3"
    },
    "language_info": {
      "name": "python"
    }
  },
  "cells": [
    {
      "cell_type": "code",
      "execution_count": 1,
      "metadata": {
        "colab": {
          "base_uri": "https://localhost:8080/"
        },
        "id": "ORLk0dxvC0fA",
        "outputId": "c5592e66-9648-4ec7-d2df-e9b96ae7ccf5"
      },
      "outputs": [
        {
          "output_type": "stream",
          "name": "stdout",
          "text": [
            "Requirement already satisfied: pyspark in /usr/local/lib/python3.11/dist-packages (3.5.5)\n",
            "Requirement already satisfied: py4j==0.10.9.7 in /usr/local/lib/python3.11/dist-packages (from pyspark) (0.10.9.7)\n"
          ]
        }
      ],
      "source": [
        "!pip install pyspark"
      ]
    },
    {
      "cell_type": "code",
      "source": [
        "import pyspark"
      ],
      "metadata": {
        "id": "MEABv8XOEAjO"
      },
      "execution_count": 2,
      "outputs": []
    },
    {
      "cell_type": "code",
      "source": [
        "from pyspark.sql import SparkSession"
      ],
      "metadata": {
        "id": "dgYvzQ3GESxu"
      },
      "execution_count": 3,
      "outputs": []
    },
    {
      "cell_type": "code",
      "source": [
        "spark = SparkSession.builder.appName('Test').getOrCreate()"
      ],
      "metadata": {
        "id": "LDMAYBISEaKf"
      },
      "execution_count": 4,
      "outputs": []
    },
    {
      "cell_type": "code",
      "source": [
        "spark"
      ],
      "metadata": {
        "colab": {
          "base_uri": "https://localhost:8080/",
          "height": 221
        },
        "id": "TATU5ZHQEyQS",
        "outputId": "956b6e50-4875-4fc2-ee32-b1c99f20da8b"
      },
      "execution_count": 5,
      "outputs": [
        {
          "output_type": "execute_result",
          "data": {
            "text/plain": [
              "<pyspark.sql.session.SparkSession at 0x7af3e4465010>"
            ],
            "text/html": [
              "\n",
              "            <div>\n",
              "                <p><b>SparkSession - in-memory</b></p>\n",
              "                \n",
              "        <div>\n",
              "            <p><b>SparkContext</b></p>\n",
              "\n",
              "            <p><a href=\"http://e107561ec563:4040\">Spark UI</a></p>\n",
              "\n",
              "            <dl>\n",
              "              <dt>Version</dt>\n",
              "                <dd><code>v3.5.5</code></dd>\n",
              "              <dt>Master</dt>\n",
              "                <dd><code>local[*]</code></dd>\n",
              "              <dt>AppName</dt>\n",
              "                <dd><code>Test</code></dd>\n",
              "            </dl>\n",
              "        </div>\n",
              "        \n",
              "            </div>\n",
              "        "
            ]
          },
          "metadata": {},
          "execution_count": 5
        }
      ]
    },
    {
      "cell_type": "code",
      "source": [
        "#Reading a dataset\n",
        "import pandas as pd\n",
        "\n",
        "url = \"https://raw.githubusercontent.com/ArthurKakande/intellikit/refs/heads/main/examples/datasets/cars-1k.csv\"\n",
        "df = pd.read_csv(url)\n",
        "\n",
        "df_pyspark = spark.createDataFrame(df)"
      ],
      "metadata": {
        "id": "MHx_-_6KEyzz"
      },
      "execution_count": 6,
      "outputs": []
    },
    {
      "cell_type": "code",
      "source": [
        "df_pyspark"
      ],
      "metadata": {
        "colab": {
          "base_uri": "https://localhost:8080/"
        },
        "id": "bkPOY1mfGI61",
        "outputId": "7b32b6b5-d499-4800-b672-ebe62c699387"
      },
      "execution_count": null,
      "outputs": [
        {
          "output_type": "execute_result",
          "data": {
            "text/plain": [
              "DataFrame[price: bigint, year: bigint, manufacturer: string, make: string, fuel: string, miles: bigint, title_status: string, transmission: string, drive: string, type: string, paint_color: string]"
            ]
          },
          "metadata": {},
          "execution_count": 8
        }
      ]
    },
    {
      "cell_type": "code",
      "source": [
        "#Alternative\n",
        "df_pyspark = spark.read.csv(\"cars-1k.csv\")\n",
        "df_pyspark = spark.read.option('header', 'true').csv(\"cars-1k.csv\")"
      ],
      "metadata": {
        "id": "7OJV-laZGQ9Q"
      },
      "execution_count": null,
      "outputs": []
    },
    {
      "cell_type": "code",
      "source": [
        "df_pyspark.show()"
      ],
      "metadata": {
        "colab": {
          "base_uri": "https://localhost:8080/"
        },
        "id": "BQ0XXcGeGoHy",
        "outputId": "1568b632-6618-4b81-c33a-7b38e290e5e2"
      },
      "execution_count": null,
      "outputs": [
        {
          "output_type": "stream",
          "name": "stdout",
          "text": [
            "+-----+----+-------------+------------+------+------+------------+------------+-----+----+-----------+\n",
            "|price|year| manufacturer|        make|  fuel| miles|title_status|transmission|drive|type|paint_color|\n",
            "+-----+----+-------------+------------+------+------+------------+------------+-----+----+-----------+\n",
            "|22168|2011|mercedes-benz|       viano|diesel|203593|     rebuilt|      manual|  fwd| van|      black|\n",
            "| 9437|2011|         ford|       s-max|diesel|137316|     rebuilt|      manual|  fwd| van|      black|\n",
            "| 1073|2002|      hyundai|      matrix|   gas|182000|     rebuilt|      manual|  fwd| van|      black|\n",
            "| 1846|2012|     chrysler|town-country|   gas|122800|       clean|      manual|  fwd| van|      black|\n",
            "| 3515|2006|         fiat|       doblo|diesel|155623|       clean|      manual|  4wd| van|      black|\n",
            "| 6624|2008|         seat|    alhambra|diesel|129620|       clean|      manual|  4wd| van|      black|\n",
            "|36639|2013|mercedes-benz|       viano|diesel| 67000|     rebuilt|      manual|  fwd| van|      black|\n",
            "|10732|2014|         opel|       combo|diesel| 31447|     rebuilt|      manual|  fwd| van|      black|\n",
            "|  924|2007|         opel|      vivaro|diesel|122000|       clean|      manual|  rwd| van|      black|\n",
            "| 5911|2010|        skoda|    roomster|diesel| 55700|       clean|      manual|  rwd| van|      black|\n",
            "| 3645|2005|         ford|     transit|diesel|185200|       clean|      manual|  4wd| van|      black|\n",
            "|12916|2005|mercedes-benz|       viano|diesel|205000|       clean|      manual|  rwd| van|      black|\n",
            "| 8142|2005|mercedes-benz|       viano|diesel|321000|       clean|      manual|  4wd| van|      black|\n",
            "| 3697|2004|         ford|     transit|diesel|313011|       clean|      manual|  4wd| van|      black|\n",
            "|12762|2015|         fiat|       doblo|   gas|     1|       clean|      manual|  4wd| van|      black|\n",
            "| 1665|1998|      citroen|    berlingo|diesel|224000|     rebuilt|      manual|  fwd| van|      black|\n",
            "|14766|2011|mercedes-benz|        vito|diesel|205000|       clean|      manual|  rwd| van|      black|\n",
            "|14729|2008|mercedes-benz|       viano|diesel|180000|       clean|      manual|  4wd| van|      black|\n",
            "| 6658|2014|         ford|      fiesta|diesel| 45550|       clean|      manual|  4wd| van|      black|\n",
            "|  921|2007|mercedes-benz|        vito|diesel|167000|       clean|      manual|  4wd| van|      black|\n",
            "+-----+----+-------------+------------+------+------+------------+------------+-----+----+-----------+\n",
            "only showing top 20 rows\n",
            "\n"
          ]
        }
      ]
    },
    {
      "cell_type": "code",
      "source": [
        "type(df_pyspark)"
      ],
      "metadata": {
        "colab": {
          "base_uri": "https://localhost:8080/",
          "height": 186
        },
        "id": "z39T-4SEGzvR",
        "outputId": "cd89a433-475b-48b3-9fb4-11e00e5a1ac7"
      },
      "execution_count": null,
      "outputs": [
        {
          "output_type": "execute_result",
          "data": {
            "text/plain": [
              "pyspark.sql.dataframe.DataFrame"
            ],
            "text/html": [
              "<div style=\"max-width:800px; border: 1px solid var(--colab-border-color);\"><style>\n",
              "      pre.function-repr-contents {\n",
              "        overflow-x: auto;\n",
              "        padding: 8px 12px;\n",
              "        max-height: 500px;\n",
              "      }\n",
              "\n",
              "      pre.function-repr-contents.function-repr-contents-collapsed {\n",
              "        cursor: pointer;\n",
              "        max-height: 100px;\n",
              "      }\n",
              "    </style>\n",
              "    <pre style=\"white-space: initial; background:\n",
              "         var(--colab-secondary-surface-color); padding: 8px 12px;\n",
              "         border-bottom: 1px solid var(--colab-border-color);\"><b>pyspark.sql.dataframe.DataFrame</b><br/>def __init__(jdf: JavaObject, sql_ctx: Union[&#x27;SQLContext&#x27;, &#x27;SparkSession&#x27;])</pre><pre class=\"function-repr-contents function-repr-contents-collapsed\" style=\"\"><a class=\"filepath\" style=\"display:none\" href=\"#\">/usr/local/lib/python3.11/dist-packages/pyspark/sql/dataframe.py</a>A distributed collection of data grouped into named columns.\n",
              "\n",
              ".. versionadded:: 1.3.0\n",
              "\n",
              ".. versionchanged:: 3.4.0\n",
              "    Supports Spark Connect.\n",
              "\n",
              "Examples\n",
              "--------\n",
              "A :class:`DataFrame` is equivalent to a relational table in Spark SQL,\n",
              "and can be created using various functions in :class:`SparkSession`:\n",
              "\n",
              "&gt;&gt;&gt; people = spark.createDataFrame([\n",
              "...     {&quot;deptId&quot;: 1, &quot;age&quot;: 40, &quot;name&quot;: &quot;Hyukjin Kwon&quot;, &quot;gender&quot;: &quot;M&quot;, &quot;salary&quot;: 50},\n",
              "...     {&quot;deptId&quot;: 1, &quot;age&quot;: 50, &quot;name&quot;: &quot;Takuya Ueshin&quot;, &quot;gender&quot;: &quot;M&quot;, &quot;salary&quot;: 100},\n",
              "...     {&quot;deptId&quot;: 2, &quot;age&quot;: 60, &quot;name&quot;: &quot;Xinrong Meng&quot;, &quot;gender&quot;: &quot;F&quot;, &quot;salary&quot;: 150},\n",
              "...     {&quot;deptId&quot;: 3, &quot;age&quot;: 20, &quot;name&quot;: &quot;Haejoon Lee&quot;, &quot;gender&quot;: &quot;M&quot;, &quot;salary&quot;: 200}\n",
              "... ])\n",
              "\n",
              "Once created, it can be manipulated using the various domain-specific-language\n",
              "(DSL) functions defined in: :class:`DataFrame`, :class:`Column`.\n",
              "\n",
              "To select a column from the :class:`DataFrame`, use the apply method:\n",
              "\n",
              "&gt;&gt;&gt; age_col = people.age\n",
              "\n",
              "A more concrete example:\n",
              "\n",
              "&gt;&gt;&gt; # To create DataFrame using SparkSession\n",
              "... department = spark.createDataFrame([\n",
              "...     {&quot;id&quot;: 1, &quot;name&quot;: &quot;PySpark&quot;},\n",
              "...     {&quot;id&quot;: 2, &quot;name&quot;: &quot;ML&quot;},\n",
              "...     {&quot;id&quot;: 3, &quot;name&quot;: &quot;Spark SQL&quot;}\n",
              "... ])\n",
              "\n",
              "&gt;&gt;&gt; people.filter(people.age &gt; 30).join(\n",
              "...     department, people.deptId == department.id).groupBy(\n",
              "...     department.name, &quot;gender&quot;).agg({&quot;salary&quot;: &quot;avg&quot;, &quot;age&quot;: &quot;max&quot;}).show()\n",
              "+-------+------+-----------+--------+\n",
              "|   name|gender|avg(salary)|max(age)|\n",
              "+-------+------+-----------+--------+\n",
              "|     ML|     F|      150.0|      60|\n",
              "|PySpark|     M|       75.0|      50|\n",
              "+-------+------+-----------+--------+\n",
              "\n",
              "Notes\n",
              "-----\n",
              "A DataFrame should only be created as described above. It should not be directly\n",
              "created via using the constructor.</pre>\n",
              "      <script>\n",
              "      if (google.colab.kernel.accessAllowed && google.colab.files && google.colab.files.view) {\n",
              "        for (const element of document.querySelectorAll('.filepath')) {\n",
              "          element.style.display = 'block'\n",
              "          element.onclick = (event) => {\n",
              "            event.preventDefault();\n",
              "            event.stopPropagation();\n",
              "            google.colab.files.view(element.textContent, 80);\n",
              "          };\n",
              "        }\n",
              "      }\n",
              "      for (const element of document.querySelectorAll('.function-repr-contents')) {\n",
              "        element.onclick = (event) => {\n",
              "          event.preventDefault();\n",
              "          event.stopPropagation();\n",
              "          element.classList.toggle('function-repr-contents-collapsed');\n",
              "        };\n",
              "      }\n",
              "      </script>\n",
              "      </div>"
            ]
          },
          "metadata": {},
          "execution_count": 10
        }
      ]
    },
    {
      "cell_type": "code",
      "source": [
        "#df_pyspark.head(3)\n",
        "df_pyspark.printSchema()"
      ],
      "metadata": {
        "colab": {
          "base_uri": "https://localhost:8080/"
        },
        "id": "upcQ_qKRHbue",
        "outputId": "9b59a00f-4dc3-4aa9-ab4f-0863c92b0a51"
      },
      "execution_count": null,
      "outputs": [
        {
          "output_type": "stream",
          "name": "stdout",
          "text": [
            "root\n",
            " |-- price: long (nullable = true)\n",
            " |-- year: long (nullable = true)\n",
            " |-- manufacturer: string (nullable = true)\n",
            " |-- make: string (nullable = true)\n",
            " |-- fuel: string (nullable = true)\n",
            " |-- miles: long (nullable = true)\n",
            " |-- title_status: string (nullable = true)\n",
            " |-- transmission: string (nullable = true)\n",
            " |-- drive: string (nullable = true)\n",
            " |-- type: string (nullable = true)\n",
            " |-- paint_color: string (nullable = true)\n",
            "\n"
          ]
        }
      ]
    },
    {
      "cell_type": "code",
      "source": [
        "df_pyspark = spark.read.option('header', 'true').csv(\"cars-1k.csv\", inferSchema=True)\n",
        "df_pyspark = spark.read.csv(\"cars-1k.csv\", header=True, inferSchema=True)\n",
        "df_pyspark.printSchema()"
      ],
      "metadata": {
        "id": "VSzmjgFrHwGv"
      },
      "execution_count": null,
      "outputs": []
    },
    {
      "cell_type": "code",
      "source": [
        "df_pyspark.columns"
      ],
      "metadata": {
        "colab": {
          "base_uri": "https://localhost:8080/"
        },
        "id": "U2M44ZfWJ8sA",
        "outputId": "6de905b8-7c16-46c1-bc23-c83e4e843bf0"
      },
      "execution_count": null,
      "outputs": [
        {
          "output_type": "execute_result",
          "data": {
            "text/plain": [
              "['price',\n",
              " 'year',\n",
              " 'manufacturer',\n",
              " 'make',\n",
              " 'fuel',\n",
              " 'miles',\n",
              " 'title_status',\n",
              " 'transmission',\n",
              " 'drive',\n",
              " 'type',\n",
              " 'paint_color']"
            ]
          },
          "metadata": {},
          "execution_count": 12
        }
      ]
    },
    {
      "cell_type": "code",
      "source": [
        "df_pyspark.select('manufacturer').show()"
      ],
      "metadata": {
        "colab": {
          "base_uri": "https://localhost:8080/"
        },
        "id": "JcJLwX3PKGab",
        "outputId": "9fd8c227-78a3-463e-fe6b-94637800240c"
      },
      "execution_count": null,
      "outputs": [
        {
          "output_type": "stream",
          "name": "stdout",
          "text": [
            "+-------------+\n",
            "| manufacturer|\n",
            "+-------------+\n",
            "|mercedes-benz|\n",
            "|         ford|\n",
            "|      hyundai|\n",
            "|     chrysler|\n",
            "|         fiat|\n",
            "|         seat|\n",
            "|mercedes-benz|\n",
            "|         opel|\n",
            "|         opel|\n",
            "|        skoda|\n",
            "|         ford|\n",
            "|mercedes-benz|\n",
            "|mercedes-benz|\n",
            "|         ford|\n",
            "|         fiat|\n",
            "|      citroen|\n",
            "|mercedes-benz|\n",
            "|mercedes-benz|\n",
            "|         ford|\n",
            "|mercedes-benz|\n",
            "+-------------+\n",
            "only showing top 20 rows\n",
            "\n"
          ]
        }
      ]
    },
    {
      "cell_type": "code",
      "source": [
        "df_pyspark.select('manufacturer','price').show()"
      ],
      "metadata": {
        "colab": {
          "base_uri": "https://localhost:8080/"
        },
        "id": "17T7BesCKotv",
        "outputId": "3111eb74-b9e4-45a4-82ea-2feb51673989"
      },
      "execution_count": null,
      "outputs": [
        {
          "output_type": "stream",
          "name": "stdout",
          "text": [
            "+-------------+-----+\n",
            "| manufacturer|price|\n",
            "+-------------+-----+\n",
            "|mercedes-benz|22168|\n",
            "|         ford| 9437|\n",
            "|      hyundai| 1073|\n",
            "|     chrysler| 1846|\n",
            "|         fiat| 3515|\n",
            "|         seat| 6624|\n",
            "|mercedes-benz|36639|\n",
            "|         opel|10732|\n",
            "|         opel|  924|\n",
            "|        skoda| 5911|\n",
            "|         ford| 3645|\n",
            "|mercedes-benz|12916|\n",
            "|mercedes-benz| 8142|\n",
            "|         ford| 3697|\n",
            "|         fiat|12762|\n",
            "|      citroen| 1665|\n",
            "|mercedes-benz|14766|\n",
            "|mercedes-benz|14729|\n",
            "|         ford| 6658|\n",
            "|mercedes-benz|  921|\n",
            "+-------------+-----+\n",
            "only showing top 20 rows\n",
            "\n"
          ]
        }
      ]
    },
    {
      "cell_type": "code",
      "source": [
        "df_pyspark.dtypes"
      ],
      "metadata": {
        "colab": {
          "base_uri": "https://localhost:8080/"
        },
        "id": "Eg1MWtSNK-oj",
        "outputId": "7efdead0-41ab-4eb9-c399-aa4a4fb8e984"
      },
      "execution_count": null,
      "outputs": [
        {
          "output_type": "execute_result",
          "data": {
            "text/plain": [
              "[('price', 'bigint'),\n",
              " ('year', 'bigint'),\n",
              " ('manufacturer', 'string'),\n",
              " ('make', 'string'),\n",
              " ('fuel', 'string'),\n",
              " ('miles', 'bigint'),\n",
              " ('title_status', 'string'),\n",
              " ('transmission', 'string'),\n",
              " ('drive', 'string'),\n",
              " ('type', 'string'),\n",
              " ('paint_color', 'string')]"
            ]
          },
          "metadata": {},
          "execution_count": 15
        }
      ]
    },
    {
      "cell_type": "code",
      "source": [
        "df_pyspark.describe().show()"
      ],
      "metadata": {
        "colab": {
          "base_uri": "https://localhost:8080/"
        },
        "id": "9rzBlCQWLY0T",
        "outputId": "7bffe948-2bc6-4518-8114-95ada4223c8b"
      },
      "execution_count": null,
      "outputs": [
        {
          "output_type": "stream",
          "name": "stdout",
          "text": [
            "+-------+------------------+-----------------+------------+------------------+------+------------------+------------+------------+-----+-------+-----------+\n",
            "|summary|             price|             year|manufacturer|              make|  fuel|             miles|title_status|transmission|drive|   type|paint_color|\n",
            "+-------+------------------+-----------------+------------+------------------+------+------------------+------------+------------+-----+-------+-----------+\n",
            "|  count|               999|              999|         999|               999|   999|               999|         999|         999|  999|    999|        999|\n",
            "|   mean|  4788.93993993994|1974.998998998999|        NULL|159.47368421052633|  NULL| 383829.9219219219|        NULL|        NULL| NULL|   NULL|       NULL|\n",
            "| stddev|5483.6737660387025|153.6571183480839|        NULL|143.38207073299424|  NULL|1124622.7757499816|        NULL|        NULL| NULL|   NULL|       NULL|\n",
            "|    min|                37|               65|        audi|               100|diesel|                 0|       clean|      manual|  4wd|compact|      black|\n",
            "|    max|             73501|             2015|       volvo|            zafira|   gas|           9202165|     rebuilt|      manual|  rwd|    van|      black|\n",
            "+-------+------------------+-----------------+------------+------------------+------+------------------+------------+------------+-----+-------+-----------+\n",
            "\n"
          ]
        }
      ]
    },
    {
      "cell_type": "code",
      "source": [
        "df_pyspark = df_pyspark.withColumn('price_in_euros', df_pyspark['price']*1.49)"
      ],
      "metadata": {
        "id": "GQ6dOkohLqNC"
      },
      "execution_count": null,
      "outputs": []
    },
    {
      "cell_type": "code",
      "source": [
        "df_pyspark.show()"
      ],
      "metadata": {
        "colab": {
          "base_uri": "https://localhost:8080/"
        },
        "id": "d95uXDf8MhSt",
        "outputId": "daca4ceb-2776-4003-989d-c09a47d8f91b"
      },
      "execution_count": null,
      "outputs": [
        {
          "output_type": "stream",
          "name": "stdout",
          "text": [
            "+-----+----+-------------+------------+------+------+------------+------------+-----+----+-----------+--------------+\n",
            "|price|year| manufacturer|        make|  fuel| miles|title_status|transmission|drive|type|paint_color|price_in_euros|\n",
            "+-----+----+-------------+------------+------+------+------------+------------+-----+----+-----------+--------------+\n",
            "|22168|2011|mercedes-benz|       viano|diesel|203593|     rebuilt|      manual|  fwd| van|      black|      33030.32|\n",
            "| 9437|2011|         ford|       s-max|diesel|137316|     rebuilt|      manual|  fwd| van|      black|      14061.13|\n",
            "| 1073|2002|      hyundai|      matrix|   gas|182000|     rebuilt|      manual|  fwd| van|      black|       1598.77|\n",
            "| 1846|2012|     chrysler|town-country|   gas|122800|       clean|      manual|  fwd| van|      black|       2750.54|\n",
            "| 3515|2006|         fiat|       doblo|diesel|155623|       clean|      manual|  4wd| van|      black|       5237.35|\n",
            "| 6624|2008|         seat|    alhambra|diesel|129620|       clean|      manual|  4wd| van|      black|       9869.76|\n",
            "|36639|2013|mercedes-benz|       viano|diesel| 67000|     rebuilt|      manual|  fwd| van|      black|      54592.11|\n",
            "|10732|2014|         opel|       combo|diesel| 31447|     rebuilt|      manual|  fwd| van|      black|      15990.68|\n",
            "|  924|2007|         opel|      vivaro|diesel|122000|       clean|      manual|  rwd| van|      black|       1376.76|\n",
            "| 5911|2010|        skoda|    roomster|diesel| 55700|       clean|      manual|  rwd| van|      black|       8807.39|\n",
            "| 3645|2005|         ford|     transit|diesel|185200|       clean|      manual|  4wd| van|      black|       5431.05|\n",
            "|12916|2005|mercedes-benz|       viano|diesel|205000|       clean|      manual|  rwd| van|      black|      19244.84|\n",
            "| 8142|2005|mercedes-benz|       viano|diesel|321000|       clean|      manual|  4wd| van|      black|      12131.58|\n",
            "| 3697|2004|         ford|     transit|diesel|313011|       clean|      manual|  4wd| van|      black|       5508.53|\n",
            "|12762|2015|         fiat|       doblo|   gas|     1|       clean|      manual|  4wd| van|      black|      19015.38|\n",
            "| 1665|1998|      citroen|    berlingo|diesel|224000|     rebuilt|      manual|  fwd| van|      black|       2480.85|\n",
            "|14766|2011|mercedes-benz|        vito|diesel|205000|       clean|      manual|  rwd| van|      black|      22001.34|\n",
            "|14729|2008|mercedes-benz|       viano|diesel|180000|       clean|      manual|  4wd| van|      black|      21946.21|\n",
            "| 6658|2014|         ford|      fiesta|diesel| 45550|       clean|      manual|  4wd| van|      black|       9920.42|\n",
            "|  921|2007|mercedes-benz|        vito|diesel|167000|       clean|      manual|  4wd| van|      black|       1372.29|\n",
            "+-----+----+-------------+------------+------+------+------------+------------+-----+----+-----------+--------------+\n",
            "only showing top 20 rows\n",
            "\n"
          ]
        }
      ]
    },
    {
      "cell_type": "code",
      "source": [
        "df_pyspark = df_pyspark.drop('price_in_euros')"
      ],
      "metadata": {
        "id": "VlK7h7IMM9at"
      },
      "execution_count": null,
      "outputs": []
    },
    {
      "cell_type": "code",
      "source": [
        "df_pyspark.show()"
      ],
      "metadata": {
        "colab": {
          "base_uri": "https://localhost:8080/"
        },
        "id": "oxmoJOv8NAOD",
        "outputId": "946a59c0-98bd-459a-8b7c-987ae7118c60"
      },
      "execution_count": null,
      "outputs": [
        {
          "output_type": "stream",
          "name": "stdout",
          "text": [
            "+-----+----+-------------+------------+------+------+------------+------------+-----+----+-----------+\n",
            "|price|year| manufacturer|        make|  fuel| miles|title_status|transmission|drive|type|paint_color|\n",
            "+-----+----+-------------+------------+------+------+------------+------------+-----+----+-----------+\n",
            "|22168|2011|mercedes-benz|       viano|diesel|203593|     rebuilt|      manual|  fwd| van|      black|\n",
            "| 9437|2011|         ford|       s-max|diesel|137316|     rebuilt|      manual|  fwd| van|      black|\n",
            "| 1073|2002|      hyundai|      matrix|   gas|182000|     rebuilt|      manual|  fwd| van|      black|\n",
            "| 1846|2012|     chrysler|town-country|   gas|122800|       clean|      manual|  fwd| van|      black|\n",
            "| 3515|2006|         fiat|       doblo|diesel|155623|       clean|      manual|  4wd| van|      black|\n",
            "| 6624|2008|         seat|    alhambra|diesel|129620|       clean|      manual|  4wd| van|      black|\n",
            "|36639|2013|mercedes-benz|       viano|diesel| 67000|     rebuilt|      manual|  fwd| van|      black|\n",
            "|10732|2014|         opel|       combo|diesel| 31447|     rebuilt|      manual|  fwd| van|      black|\n",
            "|  924|2007|         opel|      vivaro|diesel|122000|       clean|      manual|  rwd| van|      black|\n",
            "| 5911|2010|        skoda|    roomster|diesel| 55700|       clean|      manual|  rwd| van|      black|\n",
            "| 3645|2005|         ford|     transit|diesel|185200|       clean|      manual|  4wd| van|      black|\n",
            "|12916|2005|mercedes-benz|       viano|diesel|205000|       clean|      manual|  rwd| van|      black|\n",
            "| 8142|2005|mercedes-benz|       viano|diesel|321000|       clean|      manual|  4wd| van|      black|\n",
            "| 3697|2004|         ford|     transit|diesel|313011|       clean|      manual|  4wd| van|      black|\n",
            "|12762|2015|         fiat|       doblo|   gas|     1|       clean|      manual|  4wd| van|      black|\n",
            "| 1665|1998|      citroen|    berlingo|diesel|224000|     rebuilt|      manual|  fwd| van|      black|\n",
            "|14766|2011|mercedes-benz|        vito|diesel|205000|       clean|      manual|  rwd| van|      black|\n",
            "|14729|2008|mercedes-benz|       viano|diesel|180000|       clean|      manual|  4wd| van|      black|\n",
            "| 6658|2014|         ford|      fiesta|diesel| 45550|       clean|      manual|  4wd| van|      black|\n",
            "|  921|2007|mercedes-benz|        vito|diesel|167000|       clean|      manual|  4wd| van|      black|\n",
            "+-----+----+-------------+------------+------+------+------------+------------+-----+----+-----------+\n",
            "only showing top 20 rows\n",
            "\n"
          ]
        }
      ]
    },
    {
      "cell_type": "code",
      "source": [
        "df_pyspark.withColumnRenamed('manufacturer', 'brand').show()"
      ],
      "metadata": {
        "colab": {
          "base_uri": "https://localhost:8080/"
        },
        "id": "MPOiYDtVNC7J",
        "outputId": "d26ef265-7be0-4350-d59e-254a514a16e4"
      },
      "execution_count": 8,
      "outputs": [
        {
          "output_type": "stream",
          "name": "stdout",
          "text": [
            "+-----+----+-------------+------------+------+------+------------+------------+-----+----+-----------+\n",
            "|price|year|        brand|        make|  fuel| miles|title_status|transmission|drive|type|paint_color|\n",
            "+-----+----+-------------+------------+------+------+------------+------------+-----+----+-----------+\n",
            "|22168|2011|mercedes-benz|       viano|diesel|203593|     rebuilt|      manual|  fwd| van|      black|\n",
            "| 9437|2011|         ford|       s-max|diesel|137316|     rebuilt|      manual|  fwd| van|      black|\n",
            "| 1073|2002|      hyundai|      matrix|   gas|182000|     rebuilt|      manual|  fwd| van|      black|\n",
            "| 1846|2012|     chrysler|town-country|   gas|122800|       clean|      manual|  fwd| van|      black|\n",
            "| 3515|2006|         fiat|       doblo|diesel|155623|       clean|      manual|  4wd| van|      black|\n",
            "| 6624|2008|         seat|    alhambra|diesel|129620|       clean|      manual|  4wd| van|      black|\n",
            "|36639|2013|mercedes-benz|       viano|diesel| 67000|     rebuilt|      manual|  fwd| van|      black|\n",
            "|10732|2014|         opel|       combo|diesel| 31447|     rebuilt|      manual|  fwd| van|      black|\n",
            "|  924|2007|         opel|      vivaro|diesel|122000|       clean|      manual|  rwd| van|      black|\n",
            "| 5911|2010|        skoda|    roomster|diesel| 55700|       clean|      manual|  rwd| van|      black|\n",
            "| 3645|2005|         ford|     transit|diesel|185200|       clean|      manual|  4wd| van|      black|\n",
            "|12916|2005|mercedes-benz|       viano|diesel|205000|       clean|      manual|  rwd| van|      black|\n",
            "| 8142|2005|mercedes-benz|       viano|diesel|321000|       clean|      manual|  4wd| van|      black|\n",
            "| 3697|2004|         ford|     transit|diesel|313011|       clean|      manual|  4wd| van|      black|\n",
            "|12762|2015|         fiat|       doblo|   gas|     1|       clean|      manual|  4wd| van|      black|\n",
            "| 1665|1998|      citroen|    berlingo|diesel|224000|     rebuilt|      manual|  fwd| van|      black|\n",
            "|14766|2011|mercedes-benz|        vito|diesel|205000|       clean|      manual|  rwd| van|      black|\n",
            "|14729|2008|mercedes-benz|       viano|diesel|180000|       clean|      manual|  4wd| van|      black|\n",
            "| 6658|2014|         ford|      fiesta|diesel| 45550|       clean|      manual|  4wd| van|      black|\n",
            "|  921|2007|mercedes-benz|        vito|diesel|167000|       clean|      manual|  4wd| van|      black|\n",
            "+-----+----+-------------+------------+------+------+------------+------------+-----+----+-----------+\n",
            "only showing top 20 rows\n",
            "\n"
          ]
        }
      ]
    },
    {
      "cell_type": "code",
      "source": [
        "df_pyspark.na.drop().show() #dropping all rows with missing values\n",
        "df_pyspark.na.drop(how='any').show() #dropping all rows with missing values for any rows\n",
        "df_pyspark.na.drop(how='all').show() #dropping all rows with missing values for all\n",
        "df_pyspark.na.drop(thresh=2).show() #dropping all rows with missing values for 2 or more rows\n",
        "df_pyspark.na.drop(subset=['price']).show() #dropping all rows with missing values for price\n",
        "df_pyspark.na.fill(0).show() #filling all missing values with 0\n",
        "df_pyspark.na.fill(0, ['price']).show() #filling all missing values for price with 0\n",
        "df_pyspark.na.fill('Missing').show() #filling all missing values with Missing\n",
        "df_pyspark.na.fill('Missing', ['manufacturer']).show() #filling all missing values for manufacturer with Mssing\n",
        "\n",
        "from pyspark.ml.feature import Imputer\n",
        "imputer = Imputer(\n",
        "    inputCols=['price'],\n",
        "    outputCols=[\"{}_imputed\".format(c) for c in ['price']]\n",
        ").setStrategy(\"mean\")\n",
        "\n",
        "imputer.fit(df_pyspark).transform(df_pyspark).show() #adds a column with replaced nulls with mean of Price"
      ],
      "metadata": {
        "id": "qj23MApgNZAM",
        "colab": {
          "base_uri": "https://localhost:8080/"
        },
        "outputId": "430bc0e5-5756-4484-936c-bb3c3496bdf4"
      },
      "execution_count": 10,
      "outputs": [
        {
          "output_type": "stream",
          "name": "stdout",
          "text": [
            "+-----+----+-------------+------------+------+------+------------+------------+-----+----+-----------+\n",
            "|price|year| manufacturer|        make|  fuel| miles|title_status|transmission|drive|type|paint_color|\n",
            "+-----+----+-------------+------------+------+------+------------+------------+-----+----+-----------+\n",
            "|22168|2011|mercedes-benz|       viano|diesel|203593|     rebuilt|      manual|  fwd| van|      black|\n",
            "| 9437|2011|         ford|       s-max|diesel|137316|     rebuilt|      manual|  fwd| van|      black|\n",
            "| 1073|2002|      hyundai|      matrix|   gas|182000|     rebuilt|      manual|  fwd| van|      black|\n",
            "| 1846|2012|     chrysler|town-country|   gas|122800|       clean|      manual|  fwd| van|      black|\n",
            "| 3515|2006|         fiat|       doblo|diesel|155623|       clean|      manual|  4wd| van|      black|\n",
            "| 6624|2008|         seat|    alhambra|diesel|129620|       clean|      manual|  4wd| van|      black|\n",
            "|36639|2013|mercedes-benz|       viano|diesel| 67000|     rebuilt|      manual|  fwd| van|      black|\n",
            "|10732|2014|         opel|       combo|diesel| 31447|     rebuilt|      manual|  fwd| van|      black|\n",
            "|  924|2007|         opel|      vivaro|diesel|122000|       clean|      manual|  rwd| van|      black|\n",
            "| 5911|2010|        skoda|    roomster|diesel| 55700|       clean|      manual|  rwd| van|      black|\n",
            "| 3645|2005|         ford|     transit|diesel|185200|       clean|      manual|  4wd| van|      black|\n",
            "|12916|2005|mercedes-benz|       viano|diesel|205000|       clean|      manual|  rwd| van|      black|\n",
            "| 8142|2005|mercedes-benz|       viano|diesel|321000|       clean|      manual|  4wd| van|      black|\n",
            "| 3697|2004|         ford|     transit|diesel|313011|       clean|      manual|  4wd| van|      black|\n",
            "|12762|2015|         fiat|       doblo|   gas|     1|       clean|      manual|  4wd| van|      black|\n",
            "| 1665|1998|      citroen|    berlingo|diesel|224000|     rebuilt|      manual|  fwd| van|      black|\n",
            "|14766|2011|mercedes-benz|        vito|diesel|205000|       clean|      manual|  rwd| van|      black|\n",
            "|14729|2008|mercedes-benz|       viano|diesel|180000|       clean|      manual|  4wd| van|      black|\n",
            "| 6658|2014|         ford|      fiesta|diesel| 45550|       clean|      manual|  4wd| van|      black|\n",
            "|  921|2007|mercedes-benz|        vito|diesel|167000|       clean|      manual|  4wd| van|      black|\n",
            "+-----+----+-------------+------------+------+------+------------+------------+-----+----+-----------+\n",
            "only showing top 20 rows\n",
            "\n"
          ]
        }
      ]
    },
    {
      "cell_type": "code",
      "source": [
        "df_pyspark.filter(\"price<=20000\").show()\n",
        "df_pyspark.filter(\"price<=20000\").select(['manufacturer', 'price']).show()"
      ],
      "metadata": {
        "colab": {
          "base_uri": "https://localhost:8080/"
        },
        "id": "SyR_0AY8wR6w",
        "outputId": "0c3f4468-f6fe-4f2f-9121-b54adc250969"
      },
      "execution_count": 12,
      "outputs": [
        {
          "output_type": "stream",
          "name": "stdout",
          "text": [
            "+-------------+-----+\n",
            "| manufacturer|price|\n",
            "+-------------+-----+\n",
            "|         ford| 9437|\n",
            "|      hyundai| 1073|\n",
            "|     chrysler| 1846|\n",
            "|         fiat| 3515|\n",
            "|         seat| 6624|\n",
            "|         opel|10732|\n",
            "|         opel|  924|\n",
            "|        skoda| 5911|\n",
            "|         ford| 3645|\n",
            "|mercedes-benz|12916|\n",
            "|mercedes-benz| 8142|\n",
            "|         ford| 3697|\n",
            "|         fiat|12762|\n",
            "|      citroen| 1665|\n",
            "|mercedes-benz|14766|\n",
            "|mercedes-benz|14729|\n",
            "|         ford| 6658|\n",
            "|mercedes-benz|  921|\n",
            "|         ford| 2549|\n",
            "|         opel| 4404|\n",
            "+-------------+-----+\n",
            "only showing top 20 rows\n",
            "\n"
          ]
        }
      ]
    },
    {
      "cell_type": "code",
      "source": [
        "df_pyspark.filter((df_pyspark['price']<=20000) & (df_pyspark['price']>=10000)).show()"
      ],
      "metadata": {
        "colab": {
          "base_uri": "https://localhost:8080/"
        },
        "id": "yqABRtxPwrOH",
        "outputId": "aceb7075-99ae-41be-9963-e026e818825b"
      },
      "execution_count": 13,
      "outputs": [
        {
          "output_type": "stream",
          "name": "stdout",
          "text": [
            "+-----+----+-------------+-------------+------+-------+------------+------------+-----+-------+-----------+\n",
            "|price|year| manufacturer|         make|  fuel|  miles|title_status|transmission|drive|   type|paint_color|\n",
            "+-----+----+-------------+-------------+------+-------+------------+------------+-----+-------+-----------+\n",
            "|10732|2014|         opel|        combo|diesel|  31447|     rebuilt|      manual|  fwd|    van|      black|\n",
            "|12916|2005|mercedes-benz|        viano|diesel| 205000|       clean|      manual|  rwd|    van|      black|\n",
            "|12762|2015|         fiat|        doblo|   gas|      1|       clean|      manual|  4wd|    van|      black|\n",
            "|14766|2011|mercedes-benz|         vito|diesel| 205000|       clean|      manual|  rwd|    van|      black|\n",
            "|14729|2008|mercedes-benz|        viano|diesel| 180000|       clean|      manual|  4wd|    van|      black|\n",
            "|10658|2010|       nissan|      qashqai|   gas| 180000|       clean|      manual|  rwd|compact|      black|\n",
            "|11839|2012|         seat|        altea|diesel| 137800|       clean|      manual|  fwd|compact|      black|\n",
            "|10729|2012|         opel|     insignia|   gas| 152000|     rebuilt|      manual|  fwd|compact|      black|\n",
            "|15166|1995|          bmw|           x1|   gas| 151000|       clean|      manual|  4wd|compact|      black|\n",
            "|12028|2010|mercedes-benz|         vito|   gas|  76411|     rebuilt|      manual|  fwd|compact|      black|\n",
            "|13686|2011|       subaru|      outback|diesel|6024800|       clean|      manual|  rwd|compact|      black|\n",
            "|10621|2012|       toyota|        auris|   gas| 122179|       clean|      manual|  4wd|compact|      black|\n",
            "|16247|2008|          bmw|           x5|   gas| 208000|       clean|      manual|  4wd|compact|      black|\n",
            "|15725|2010|         audi|           a5|diesel| 139000|       clean|      manual|  fwd|compact|      black|\n",
            "|11695|2012|        skoda|       superb|diesel| 169000|     rebuilt|      manual|  fwd|compact|      black|\n",
            "|14063|2012|        skoda|       superb|   gas|  70000|       clean|      manual|  rwd|compact|      black|\n",
            "|15136|2011|        skoda|       superb|   gas|  60500|       clean|      manual|  rwd|compact|      black|\n",
            "|11880|2009|     chrysler|grand-voyager|diesel| 187500|       clean|      manual|  rwd|compact|      black|\n",
            "|11065|2008|         audi|   a6-allroad|diesel| 282000|       clean|      manual|  4wd|compact|      black|\n",
            "|11435|2010|        skoda|       superb|diesel| 187756|       clean|      manual|  4wd|compact|      black|\n",
            "+-----+----+-------------+-------------+------+-------+------------+------------+-----+-------+-----------+\n",
            "only showing top 20 rows\n",
            "\n"
          ]
        }
      ]
    },
    {
      "cell_type": "code",
      "source": [
        "df_pyspark.filter(~(df_pyspark['price']<=20000)).show() #not"
      ],
      "metadata": {
        "colab": {
          "base_uri": "https://localhost:8080/"
        },
        "id": "RsmkoXY_xdch",
        "outputId": "f1ea883b-6bc1-4eb7-d353-b2f0188ed3c6"
      },
      "execution_count": 14,
      "outputs": [
        {
          "output_type": "stream",
          "name": "stdout",
          "text": [
            "+-----+----+-------------+--------------+------+------+------------+------------+-----+-------+-----------+\n",
            "|price|year| manufacturer|          make|  fuel| miles|title_status|transmission|drive|   type|paint_color|\n",
            "+-----+----+-------------+--------------+------+------+------------+------------+-----+-------+-----------+\n",
            "|22168|2011|mercedes-benz|         viano|diesel|203593|     rebuilt|      manual|  fwd|    van|      black|\n",
            "|36639|2013|mercedes-benz|         viano|diesel| 67000|     rebuilt|      manual|  fwd|    van|      black|\n",
            "|29977|2012|mercedes-benz|         viano|diesel| 91000|     rebuilt|      manual|  fwd|    van|      black|\n",
            "|29570|2009|      porsche|       cayenne|   gas|139000|       clean|      manual|  rwd|compact|      black|\n",
            "|30347|2011|          bmw|            z4|   gas| 69000|       clean|      manual|  4wd|compact|      black|\n",
            "|22945|2011|          bmw|            x5|   gas|109521|       clean|      manual|  rwd|compact|      black|\n",
            "|25499|2008|          bmw|            x5|   gas|190000|     rebuilt|      manual|  fwd|compact|      black|\n",
            "|22168|2008|          bmw|            x6|   gas|119000|       clean|      manual|  4wd|compact|      black|\n",
            "|21761|2010|         audi|            a5|   gas|127000|       clean|      manual|  rwd|compact|      black|\n",
            "|25869|2014|         ford|        galaxy|diesel| 32000|     rebuilt|      manual|  fwd|compact|      black|\n",
            "|20355|2009|          bmw|            x6|   gas|109400|       clean|      manual|  fwd|compact|      black|\n",
            "|21002|2012|       nissan|        navara|   gas|137000|       clean|      manual|  4wd|compact|      black|\n",
            "|54700|2009|      porsche|      panamera|   gas|157000|       clean|      manual|  rwd|compact|      black|\n",
            "|23685|2013|        skoda|        superb|diesel| 51000|       clean|      manual|  4wd|compact|      black|\n",
            "|22131|2011|         jeep|grand-cherokee|   gas|183315|       clean|      manual|  4wd|compact|      black|\n",
            "|22279|2011|          bmw|            x3|diesel|195000|     rebuilt|      manual|  fwd|compact|      black|\n",
            "|23649|2012|         audi|            q3|   gas|   100|     rebuilt|      manual|  fwd|compact|      black|\n",
            "|42190|2011|        volvo|           460|   gas|608000|     rebuilt|      manual|  fwd|compact|      black|\n",
            "|24056|2011|         audi|            q5|   gas|159300|     rebuilt|      manual|  fwd|compact|      black|\n",
            "|51776|2013|         audi|            a6|diesel| 44353|       clean|      manual|  rwd|compact|      black|\n",
            "+-----+----+-------------+--------------+------+------+------------+------------+-----+-------+-----------+\n",
            "only showing top 20 rows\n",
            "\n"
          ]
        }
      ]
    },
    {
      "cell_type": "code",
      "source": [
        "#df_pyspark.groupby('manufacturer').sum().show()\n",
        "df_pyspark.groupby('manufacturer').count().show()"
      ],
      "metadata": {
        "colab": {
          "base_uri": "https://localhost:8080/"
        },
        "id": "siXdiD8ix_GA",
        "outputId": "ec78b63b-10f0-4858-b454-b30fa340a719"
      },
      "execution_count": 16,
      "outputs": [
        {
          "output_type": "stream",
          "name": "stdout",
          "text": [
            "+-------------+-----+\n",
            "| manufacturer|count|\n",
            "+-------------+-----+\n",
            "|       jaguar|    5|\n",
            "|   mitsubishi|    6|\n",
            "|        lexus|    1|\n",
            "|       toyota|   25|\n",
            "|         seat|   41|\n",
            "|     chrysler|    6|\n",
            "|      citroen|   58|\n",
            "|         audi|   77|\n",
            "|          bmw|   20|\n",
            "|         jeep|    4|\n",
            "|       lancia|    3|\n",
            "|        skoda|  322|\n",
            "|        rover|    5|\n",
            "|      hyundai|   21|\n",
            "|         ford|  159|\n",
            "|        mazda|   18|\n",
            "|          kia|    9|\n",
            "|mercedes-benz|   14|\n",
            "|      porsche|    3|\n",
            "|    chevrolet|    6|\n",
            "+-------------+-----+\n",
            "only showing top 20 rows\n",
            "\n"
          ]
        }
      ]
    },
    {
      "cell_type": "code",
      "source": [
        "df_pyspark.agg({'price': 'sum'}).show()"
      ],
      "metadata": {
        "colab": {
          "base_uri": "https://localhost:8080/"
        },
        "id": "nV0E-y_wzgmo",
        "outputId": "1a636b09-5056-42dd-800c-a491458cd736"
      },
      "execution_count": 18,
      "outputs": [
        {
          "output_type": "stream",
          "name": "stdout",
          "text": [
            "+----------+\n",
            "|sum(price)|\n",
            "+----------+\n",
            "|   4784151|\n",
            "+----------+\n",
            "\n"
          ]
        }
      ]
    },
    {
      "cell_type": "code",
      "source": [
        "from pyspark.ml.feature import VectorAssembler\n",
        "featureassembler = VectorAssembler(inputCols=['year', 'miles'], outputCol='Independent Features')\n",
        "output = featureassembler.transform(df_pyspark)\n",
        "output.show()"
      ],
      "metadata": {
        "colab": {
          "base_uri": "https://localhost:8080/"
        },
        "id": "tUIjBghr0uVr",
        "outputId": "5371f31e-0970-41e0-8c77-5d4868845a4f"
      },
      "execution_count": 19,
      "outputs": [
        {
          "output_type": "stream",
          "name": "stdout",
          "text": [
            "+-----+----+-------------+------------+------+------+------------+------------+-----+----+-----------+--------------------+\n",
            "|price|year| manufacturer|        make|  fuel| miles|title_status|transmission|drive|type|paint_color|Independent Features|\n",
            "+-----+----+-------------+------------+------+------+------------+------------+-----+----+-----------+--------------------+\n",
            "|22168|2011|mercedes-benz|       viano|diesel|203593|     rebuilt|      manual|  fwd| van|      black|   [2011.0,203593.0]|\n",
            "| 9437|2011|         ford|       s-max|diesel|137316|     rebuilt|      manual|  fwd| van|      black|   [2011.0,137316.0]|\n",
            "| 1073|2002|      hyundai|      matrix|   gas|182000|     rebuilt|      manual|  fwd| van|      black|   [2002.0,182000.0]|\n",
            "| 1846|2012|     chrysler|town-country|   gas|122800|       clean|      manual|  fwd| van|      black|   [2012.0,122800.0]|\n",
            "| 3515|2006|         fiat|       doblo|diesel|155623|       clean|      manual|  4wd| van|      black|   [2006.0,155623.0]|\n",
            "| 6624|2008|         seat|    alhambra|diesel|129620|       clean|      manual|  4wd| van|      black|   [2008.0,129620.0]|\n",
            "|36639|2013|mercedes-benz|       viano|diesel| 67000|     rebuilt|      manual|  fwd| van|      black|    [2013.0,67000.0]|\n",
            "|10732|2014|         opel|       combo|diesel| 31447|     rebuilt|      manual|  fwd| van|      black|    [2014.0,31447.0]|\n",
            "|  924|2007|         opel|      vivaro|diesel|122000|       clean|      manual|  rwd| van|      black|   [2007.0,122000.0]|\n",
            "| 5911|2010|        skoda|    roomster|diesel| 55700|       clean|      manual|  rwd| van|      black|    [2010.0,55700.0]|\n",
            "| 3645|2005|         ford|     transit|diesel|185200|       clean|      manual|  4wd| van|      black|   [2005.0,185200.0]|\n",
            "|12916|2005|mercedes-benz|       viano|diesel|205000|       clean|      manual|  rwd| van|      black|   [2005.0,205000.0]|\n",
            "| 8142|2005|mercedes-benz|       viano|diesel|321000|       clean|      manual|  4wd| van|      black|   [2005.0,321000.0]|\n",
            "| 3697|2004|         ford|     transit|diesel|313011|       clean|      manual|  4wd| van|      black|   [2004.0,313011.0]|\n",
            "|12762|2015|         fiat|       doblo|   gas|     1|       clean|      manual|  4wd| van|      black|        [2015.0,1.0]|\n",
            "| 1665|1998|      citroen|    berlingo|diesel|224000|     rebuilt|      manual|  fwd| van|      black|   [1998.0,224000.0]|\n",
            "|14766|2011|mercedes-benz|        vito|diesel|205000|       clean|      manual|  rwd| van|      black|   [2011.0,205000.0]|\n",
            "|14729|2008|mercedes-benz|       viano|diesel|180000|       clean|      manual|  4wd| van|      black|   [2008.0,180000.0]|\n",
            "| 6658|2014|         ford|      fiesta|diesel| 45550|       clean|      manual|  4wd| van|      black|    [2014.0,45550.0]|\n",
            "|  921|2007|mercedes-benz|        vito|diesel|167000|       clean|      manual|  4wd| van|      black|   [2007.0,167000.0]|\n",
            "+-----+----+-------------+------------+------+------+------------+------------+-----+----+-----------+--------------------+\n",
            "only showing top 20 rows\n",
            "\n"
          ]
        }
      ]
    },
    {
      "cell_type": "code",
      "source": [
        "finaldf = output.select('Independent Features', 'price')\n",
        "finaldf.show()"
      ],
      "metadata": {
        "colab": {
          "base_uri": "https://localhost:8080/"
        },
        "id": "0IZjQwFA4F8U",
        "outputId": "b75d752f-e2a0-4479-90ae-8fc7a1e4bbd2"
      },
      "execution_count": 20,
      "outputs": [
        {
          "output_type": "stream",
          "name": "stdout",
          "text": [
            "+--------------------+-----+\n",
            "|Independent Features|price|\n",
            "+--------------------+-----+\n",
            "|   [2011.0,203593.0]|22168|\n",
            "|   [2011.0,137316.0]| 9437|\n",
            "|   [2002.0,182000.0]| 1073|\n",
            "|   [2012.0,122800.0]| 1846|\n",
            "|   [2006.0,155623.0]| 3515|\n",
            "|   [2008.0,129620.0]| 6624|\n",
            "|    [2013.0,67000.0]|36639|\n",
            "|    [2014.0,31447.0]|10732|\n",
            "|   [2007.0,122000.0]|  924|\n",
            "|    [2010.0,55700.0]| 5911|\n",
            "|   [2005.0,185200.0]| 3645|\n",
            "|   [2005.0,205000.0]|12916|\n",
            "|   [2005.0,321000.0]| 8142|\n",
            "|   [2004.0,313011.0]| 3697|\n",
            "|        [2015.0,1.0]|12762|\n",
            "|   [1998.0,224000.0]| 1665|\n",
            "|   [2011.0,205000.0]|14766|\n",
            "|   [2008.0,180000.0]|14729|\n",
            "|    [2014.0,45550.0]| 6658|\n",
            "|   [2007.0,167000.0]|  921|\n",
            "+--------------------+-----+\n",
            "only showing top 20 rows\n",
            "\n"
          ]
        }
      ]
    },
    {
      "cell_type": "code",
      "source": [
        "from pyspark.ml.regression import LinearRegression\n",
        "train_data, test_data = finaldf.randomSplit([0.75, 0.25])\n",
        "regress = LinearRegression(featuresCol='Independent Features', labelCol='price')\n",
        "lr_model = regress.fit(train_data)"
      ],
      "metadata": {
        "id": "iehVLr664Ms1"
      },
      "execution_count": 21,
      "outputs": []
    },
    {
      "cell_type": "code",
      "source": [
        "lr_model.coefficients"
      ],
      "metadata": {
        "colab": {
          "base_uri": "https://localhost:8080/"
        },
        "id": "rzBx-c4o5Dm1",
        "outputId": "319878fd-18e3-49c4-89ac-abb54888de31"
      },
      "execution_count": 22,
      "outputs": [
        {
          "output_type": "execute_result",
          "data": {
            "text/plain": [
              "DenseVector([2.416, -0.0002])"
            ]
          },
          "metadata": {},
          "execution_count": 22
        }
      ]
    },
    {
      "cell_type": "code",
      "source": [
        "lr_model.intercept"
      ],
      "metadata": {
        "colab": {
          "base_uri": "https://localhost:8080/"
        },
        "id": "cVpM1jgP5GvO",
        "outputId": "1269e225-6f06-4b95-8707-02ebc327d58a"
      },
      "execution_count": 23,
      "outputs": [
        {
          "output_type": "execute_result",
          "data": {
            "text/plain": [
              "204.29397825444633"
            ]
          },
          "metadata": {},
          "execution_count": 23
        }
      ]
    },
    {
      "cell_type": "code",
      "source": [
        "test_pred = lr_model.evaluate(test_data)"
      ],
      "metadata": {
        "id": "E6ZX-TG-5P2N"
      },
      "execution_count": 24,
      "outputs": []
    },
    {
      "cell_type": "code",
      "source": [
        "results = test_pred.predictions\n",
        "results.show()"
      ],
      "metadata": {
        "colab": {
          "base_uri": "https://localhost:8080/"
        },
        "id": "RFzQLT475Vmo",
        "outputId": "59baa38e-97ab-4437-bfb1-2b4bbdabbfdf"
      },
      "execution_count": 25,
      "outputs": [
        {
          "output_type": "stream",
          "name": "stdout",
          "text": [
            "+--------------------+-----+------------------+\n",
            "|Independent Features|price|        prediction|\n",
            "+--------------------+-----+------------------+\n",
            "|    [327.0,182000.0]| 3145| 959.1867929186764|\n",
            "|     [1000.0,1000.0]| 2960|2620.1308554097714|\n",
            "|   [1061.0,106150.0]| 2179|2747.2014494687405|\n",
            "|  [1320.0,4132000.0]| 1073|2595.4554869009676|\n",
            "|   [1430.0,143000.0]| 1332|3631.5998146076736|\n",
            "|   [1560.0,156000.0]| 7949|3943.1730724579666|\n",
            "|   [1720.0,148381.0]| 6476| 4331.209302712953|\n",
            "|   [1798.0,141000.0]| 6624|4521.0851086078255|\n",
            "|   [1910.0,221804.0]| 4774| 4776.075087067684|\n",
            "|   [1970.0,197000.0]| 4030| 4925.827193370431|\n",
            "|   [1996.0,261000.0]| 1850| 4976.283886786193|\n",
            "|   [1998.0,267105.0]| 1291|4979.9369104001835|\n",
            "|   [1998.0,300000.0]| 1480| 4973.584018975337|\n",
            "|    [1999.0,81000.0]| 1424| 5018.294720571531|\n",
            "|   [1999.0,136000.0]| 1184| 5007.672771084784|\n",
            "|      [2000.0,200.0]| 2202|5036.3153600028445|\n",
            "|   [2000.0,102000.0]| 1443| 5016.655097134647|\n",
            "|   [2000.0,161000.0]| 1476| 5005.260642230682|\n",
            "|   [2000.0,198000.0]| 2590| 4998.114967121415|\n",
            "|   [2000.0,205000.0]| 2405| 4996.763082641283|\n",
            "+--------------------+-----+------------------+\n",
            "only showing top 20 rows\n",
            "\n"
          ]
        }
      ]
    },
    {
      "cell_type": "code",
      "source": [
        "test_pred.meanSquaredError, test_pred.meanAbsoluteError"
      ],
      "metadata": {
        "colab": {
          "base_uri": "https://localhost:8080/"
        },
        "id": "amCe8oS65fgO",
        "outputId": "4de109e2-7819-495f-d6af-7428bd0a0b26"
      },
      "execution_count": 28,
      "outputs": [
        {
          "output_type": "execute_result",
          "data": {
            "text/plain": [
              "(14554645.613484545, 3008.0896229916166)"
            ]
          },
          "metadata": {},
          "execution_count": 28
        }
      ]
    },
    {
      "cell_type": "code",
      "source": [
        "from pyspark.ml.feature import StringIndexer\n",
        "indexer = StringIndexer(inputCols=['manufacturer', 'model'], outputCols=['manufacturer_index', 'model_index'])\n",
        "df_pyspark = indexer.fit(df_pyspark).transform(df_pyspark)\n",
        "df_pyspark.show()"
      ],
      "metadata": {
        "id": "MeD4yizp6PEV"
      },
      "execution_count": null,
      "outputs": []
    }
  ]
}