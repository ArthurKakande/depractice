{
  "nbformat": 4,
  "nbformat_minor": 0,
  "metadata": {
    "colab": {
      "provenance": []
    },
    "kernelspec": {
      "name": "python3",
      "display_name": "Python 3"
    },
    "language_info": {
      "name": "python"
    }
  },
  "cells": [
    {
      "cell_type": "markdown",
      "source": [
        "# **NER PRE-TRAINED Vs CUSTOM MODEL**"
      ],
      "metadata": {
        "id": "CrLGYs-8oPMM"
      }
    },
    {
      "cell_type": "code",
      "execution_count": 1,
      "metadata": {
        "colab": {
          "base_uri": "https://localhost:8080/"
        },
        "collapsed": true,
        "id": "rUXyr6jraiOV",
        "outputId": "912bea64-c98f-4008-b50e-401cb616a207"
      },
      "outputs": [
        {
          "output_type": "stream",
          "name": "stdout",
          "text": [
            "Requirement already satisfied: spacy in /usr/local/lib/python3.11/dist-packages (3.8.5)\n",
            "Requirement already satisfied: spacy-legacy<3.1.0,>=3.0.11 in /usr/local/lib/python3.11/dist-packages (from spacy) (3.0.12)\n",
            "Requirement already satisfied: spacy-loggers<2.0.0,>=1.0.0 in /usr/local/lib/python3.11/dist-packages (from spacy) (1.0.5)\n",
            "Requirement already satisfied: murmurhash<1.1.0,>=0.28.0 in /usr/local/lib/python3.11/dist-packages (from spacy) (1.0.12)\n",
            "Requirement already satisfied: cymem<2.1.0,>=2.0.2 in /usr/local/lib/python3.11/dist-packages (from spacy) (2.0.11)\n",
            "Requirement already satisfied: preshed<3.1.0,>=3.0.2 in /usr/local/lib/python3.11/dist-packages (from spacy) (3.0.9)\n",
            "Requirement already satisfied: thinc<8.4.0,>=8.3.4 in /usr/local/lib/python3.11/dist-packages (from spacy) (8.3.6)\n",
            "Requirement already satisfied: wasabi<1.2.0,>=0.9.1 in /usr/local/lib/python3.11/dist-packages (from spacy) (1.1.3)\n",
            "Requirement already satisfied: srsly<3.0.0,>=2.4.3 in /usr/local/lib/python3.11/dist-packages (from spacy) (2.5.1)\n",
            "Requirement already satisfied: catalogue<2.1.0,>=2.0.6 in /usr/local/lib/python3.11/dist-packages (from spacy) (2.0.10)\n",
            "Requirement already satisfied: weasel<0.5.0,>=0.1.0 in /usr/local/lib/python3.11/dist-packages (from spacy) (0.4.1)\n",
            "Requirement already satisfied: typer<1.0.0,>=0.3.0 in /usr/local/lib/python3.11/dist-packages (from spacy) (0.15.3)\n",
            "Requirement already satisfied: tqdm<5.0.0,>=4.38.0 in /usr/local/lib/python3.11/dist-packages (from spacy) (4.67.1)\n",
            "Requirement already satisfied: numpy>=1.19.0 in /usr/local/lib/python3.11/dist-packages (from spacy) (2.0.2)\n",
            "Requirement already satisfied: requests<3.0.0,>=2.13.0 in /usr/local/lib/python3.11/dist-packages (from spacy) (2.32.3)\n",
            "Requirement already satisfied: pydantic!=1.8,!=1.8.1,<3.0.0,>=1.7.4 in /usr/local/lib/python3.11/dist-packages (from spacy) (2.11.4)\n",
            "Requirement already satisfied: jinja2 in /usr/local/lib/python3.11/dist-packages (from spacy) (3.1.6)\n",
            "Requirement already satisfied: setuptools in /usr/local/lib/python3.11/dist-packages (from spacy) (75.2.0)\n",
            "Requirement already satisfied: packaging>=20.0 in /usr/local/lib/python3.11/dist-packages (from spacy) (24.2)\n",
            "Requirement already satisfied: langcodes<4.0.0,>=3.2.0 in /usr/local/lib/python3.11/dist-packages (from spacy) (3.5.0)\n",
            "Requirement already satisfied: language-data>=1.2 in /usr/local/lib/python3.11/dist-packages (from langcodes<4.0.0,>=3.2.0->spacy) (1.3.0)\n",
            "Requirement already satisfied: annotated-types>=0.6.0 in /usr/local/lib/python3.11/dist-packages (from pydantic!=1.8,!=1.8.1,<3.0.0,>=1.7.4->spacy) (0.7.0)\n",
            "Requirement already satisfied: pydantic-core==2.33.2 in /usr/local/lib/python3.11/dist-packages (from pydantic!=1.8,!=1.8.1,<3.0.0,>=1.7.4->spacy) (2.33.2)\n",
            "Requirement already satisfied: typing-extensions>=4.12.2 in /usr/local/lib/python3.11/dist-packages (from pydantic!=1.8,!=1.8.1,<3.0.0,>=1.7.4->spacy) (4.13.2)\n",
            "Requirement already satisfied: typing-inspection>=0.4.0 in /usr/local/lib/python3.11/dist-packages (from pydantic!=1.8,!=1.8.1,<3.0.0,>=1.7.4->spacy) (0.4.0)\n",
            "Requirement already satisfied: charset-normalizer<4,>=2 in /usr/local/lib/python3.11/dist-packages (from requests<3.0.0,>=2.13.0->spacy) (3.4.2)\n",
            "Requirement already satisfied: idna<4,>=2.5 in /usr/local/lib/python3.11/dist-packages (from requests<3.0.0,>=2.13.0->spacy) (3.10)\n",
            "Requirement already satisfied: urllib3<3,>=1.21.1 in /usr/local/lib/python3.11/dist-packages (from requests<3.0.0,>=2.13.0->spacy) (2.4.0)\n",
            "Requirement already satisfied: certifi>=2017.4.17 in /usr/local/lib/python3.11/dist-packages (from requests<3.0.0,>=2.13.0->spacy) (2025.4.26)\n",
            "Requirement already satisfied: blis<1.4.0,>=1.3.0 in /usr/local/lib/python3.11/dist-packages (from thinc<8.4.0,>=8.3.4->spacy) (1.3.0)\n",
            "Requirement already satisfied: confection<1.0.0,>=0.0.1 in /usr/local/lib/python3.11/dist-packages (from thinc<8.4.0,>=8.3.4->spacy) (0.1.5)\n",
            "Requirement already satisfied: click>=8.0.0 in /usr/local/lib/python3.11/dist-packages (from typer<1.0.0,>=0.3.0->spacy) (8.2.0)\n",
            "Requirement already satisfied: shellingham>=1.3.0 in /usr/local/lib/python3.11/dist-packages (from typer<1.0.0,>=0.3.0->spacy) (1.5.4)\n",
            "Requirement already satisfied: rich>=10.11.0 in /usr/local/lib/python3.11/dist-packages (from typer<1.0.0,>=0.3.0->spacy) (13.9.4)\n",
            "Requirement already satisfied: cloudpathlib<1.0.0,>=0.7.0 in /usr/local/lib/python3.11/dist-packages (from weasel<0.5.0,>=0.1.0->spacy) (0.21.0)\n",
            "Requirement already satisfied: smart-open<8.0.0,>=5.2.1 in /usr/local/lib/python3.11/dist-packages (from weasel<0.5.0,>=0.1.0->spacy) (7.1.0)\n",
            "Requirement already satisfied: MarkupSafe>=2.0 in /usr/local/lib/python3.11/dist-packages (from jinja2->spacy) (3.0.2)\n",
            "Requirement already satisfied: marisa-trie>=1.1.0 in /usr/local/lib/python3.11/dist-packages (from language-data>=1.2->langcodes<4.0.0,>=3.2.0->spacy) (1.2.1)\n",
            "Requirement already satisfied: markdown-it-py>=2.2.0 in /usr/local/lib/python3.11/dist-packages (from rich>=10.11.0->typer<1.0.0,>=0.3.0->spacy) (3.0.0)\n",
            "Requirement already satisfied: pygments<3.0.0,>=2.13.0 in /usr/local/lib/python3.11/dist-packages (from rich>=10.11.0->typer<1.0.0,>=0.3.0->spacy) (2.19.1)\n",
            "Requirement already satisfied: wrapt in /usr/local/lib/python3.11/dist-packages (from smart-open<8.0.0,>=5.2.1->weasel<0.5.0,>=0.1.0->spacy) (1.17.2)\n",
            "Requirement already satisfied: mdurl~=0.1 in /usr/local/lib/python3.11/dist-packages (from markdown-it-py>=2.2.0->rich>=10.11.0->typer<1.0.0,>=0.3.0->spacy) (0.1.2)\n"
          ]
        }
      ],
      "source": [
        "!pip install spacy"
      ]
    },
    {
      "cell_type": "code",
      "source": [
        "import spacy"
      ],
      "metadata": {
        "id": "3gMy6TVdbccC"
      },
      "execution_count": 1,
      "outputs": []
    },
    {
      "cell_type": "code",
      "source": [
        "nlp = spacy.load('en_core_web_sm')"
      ],
      "metadata": {
        "id": "RLLv5qeTby7D"
      },
      "execution_count": 3,
      "outputs": []
    },
    {
      "cell_type": "code",
      "source": [
        "texts = [\n",
        "    'John goes for a walk in Berlin',\n",
        "    'Mike is going to the store',\n",
        "    'Elon Musk is the CEO of Twitter',\n",
        "    'Arthur Kakande is the CEO of Instagram'\n",
        "]"
      ],
      "metadata": {
        "id": "3bl1caR3cK6L"
      },
      "execution_count": 9,
      "outputs": []
    },
    {
      "cell_type": "code",
      "source": [
        "ner_labels = nlp.pipe_labels['ner']\n",
        "print(ner_labels)"
      ],
      "metadata": {
        "colab": {
          "base_uri": "https://localhost:8080/"
        },
        "id": "UDuWLZsodja1",
        "outputId": "f588aef5-4e59-49eb-dea0-7634ecf53150"
      },
      "execution_count": 7,
      "outputs": [
        {
          "output_type": "stream",
          "name": "stdout",
          "text": [
            "['CARDINAL', 'DATE', 'EVENT', 'FAC', 'GPE', 'LANGUAGE', 'LAW', 'LOC', 'MONEY', 'NORP', 'ORDINAL', 'ORG', 'PERCENT', 'PERSON', 'PRODUCT', 'QUANTITY', 'TIME', 'WORK_OF_ART']\n"
          ]
        }
      ]
    },
    {
      "cell_type": "code",
      "source": [
        "#NEW LABELS\n",
        "categories = ['PERSON', 'ORG', 'LOC']"
      ],
      "metadata": {
        "id": "XhwysRXreFCj"
      },
      "execution_count": 8,
      "outputs": []
    },
    {
      "cell_type": "code",
      "source": [
        "docs = [nlp(text) for text in texts]"
      ],
      "metadata": {
        "id": "e1UYpIkLeh5v"
      },
      "execution_count": 10,
      "outputs": []
    },
    {
      "cell_type": "code",
      "source": [
        "for doc in docs:\n",
        "  entities = []\n",
        "  for ent in doc.ents:\n",
        "    #if ent.label_ in categories:\n",
        "    entities.append((ent.text, ent.label_))\n",
        "  print(entities)"
      ],
      "metadata": {
        "colab": {
          "base_uri": "https://localhost:8080/"
        },
        "id": "l8HyTeaVeqtY",
        "outputId": "f2676b1f-e612-4886-d744-ebebb66298b7"
      },
      "execution_count": 13,
      "outputs": [
        {
          "output_type": "stream",
          "name": "stdout",
          "text": [
            "[('John', 'PERSON'), ('Berlin', 'GPE')]\n",
            "[('Mike', 'PERSON')]\n",
            "[('Elon Musk', 'PERSON')]\n",
            "[('Arthur Kakande', 'PERSON'), ('Instagram', 'ORG')]\n"
          ]
        }
      ]
    },
    {
      "cell_type": "code",
      "source": [
        "texts = [\n",
        "    'What is the price of 4 bananas',\n",
        "    'How much are 16 chairs',\n",
        "    'Give me the cost of five laptops'\n",
        "]"
      ],
      "metadata": {
        "id": "1hUq1auVf0G1"
      },
      "execution_count": 14,
      "outputs": []
    },
    {
      "cell_type": "code",
      "source": [
        "docs = [nlp(text) for text in texts]\n",
        "for doc in docs:\n",
        "  entities = []\n",
        "  for ent in doc.ents:\n",
        "    #if ent.label_ in categories:\n",
        "    entities.append((ent.text, ent.label_))\n",
        "  print(entities)"
      ],
      "metadata": {
        "colab": {
          "base_uri": "https://localhost:8080/"
        },
        "id": "1Zr47APkgFoT",
        "outputId": "fa4734d2-b0c1-43a0-95d0-325bef5c4766"
      },
      "execution_count": 15,
      "outputs": [
        {
          "output_type": "stream",
          "name": "stdout",
          "text": [
            "[('4', 'CARDINAL')]\n",
            "[('16', 'CARDINAL')]\n",
            "[('five', 'CARDINAL')]\n"
          ]
        }
      ]
    },
    {
      "cell_type": "markdown",
      "source": [
        "# **Training a Custom NER Model**"
      ],
      "metadata": {
        "id": "Y3_ka9w_gQG8"
      }
    },
    {
      "cell_type": "code",
      "source": [
        "!pip install spacy-lookups-data"
      ],
      "metadata": {
        "colab": {
          "base_uri": "https://localhost:8080/"
        },
        "id": "olVf-Q5umRwy",
        "outputId": "642993f0-938b-46e1-fe41-e6249136968e"
      },
      "execution_count": 23,
      "outputs": [
        {
          "output_type": "stream",
          "name": "stdout",
          "text": [
            "Collecting spacy-lookups-data\n",
            "  Downloading spacy_lookups_data-1.0.5-py2.py3-none-any.whl.metadata (4.8 kB)\n",
            "Requirement already satisfied: setuptools in /usr/local/lib/python3.11/dist-packages (from spacy-lookups-data) (75.2.0)\n",
            "Downloading spacy_lookups_data-1.0.5-py2.py3-none-any.whl (98.5 MB)\n",
            "\u001b[2K   \u001b[90m━━━━━━━━━━━━━━━━━━━━━━━━━━━━━━━━━━━━━━━━\u001b[0m \u001b[32m98.5/98.5 MB\u001b[0m \u001b[31m5.3 MB/s\u001b[0m eta \u001b[36m0:00:00\u001b[0m\n",
            "\u001b[?25hInstalling collected packages: spacy-lookups-data\n",
            "Successfully installed spacy-lookups-data-1.0.5\n"
          ]
        }
      ]
    },
    {
      "cell_type": "code",
      "source": [
        "from spacy.util import minibatch\n",
        "from spacy.training.example import Example\n",
        "import random"
      ],
      "metadata": {
        "id": "X4c5ew32gNBm"
      },
      "execution_count": 24,
      "outputs": []
    },
    {
      "cell_type": "code",
      "source": [
        "# loading a blank model\n",
        "nlp = spacy.blank('en')"
      ],
      "metadata": {
        "id": "wkgs1Ua3m5Wo"
      },
      "execution_count": 27,
      "outputs": []
    },
    {
      "cell_type": "code",
      "source": [
        "train_data = [\n",
        "    (\"What is the price of 10 bananas?\", {\"entities\": [(21, 23, \"QUANTITY\"), (24, 31, \"PRODUCT\")]}),\n",
        "    (\"How much does 5 apples cost?\", {\"entities\": [(15, 16, \"QUANTITY\"), (17, 23, \"PRODUCT\")]}),\n",
        "    (\"I need 2 liters of milk.\", {\"entities\": [(7, 8, \"QUANTITY\"), (9, 15, \"PRODUCT\"), (19, 23, \"PRODUCT\")]}),\n",
        "    (\"Price of 3 kg potatoes?\", {\"entities\": [(9, 10, \"QUANTITY\"), (11, 13, \"UNIT\"), (14, 22, \"PRODUCT\")]}),\n",
        "    (\"Can I get 12 eggs?\", {\"entities\": [(11, 13, \"QUANTITY\"), (14, 18, \"PRODUCT\")]}),\n",
        "    (\"Cost of 1 loaf of bread?\", {\"entities\": [(9, 10, \"QUANTITY\"), (11, 15, \"UNIT\"), (19, 24, \"PRODUCT\")]}),\n",
        "    (\"What’s the price for 500g sugar?\", {\"entities\": [(20, 24, \"QUANTITY\"), (25, 27, \"UNIT\"), (28, 33, \"PRODUCT\")]}),\n",
        "    (\"I want to buy 4 oranges.\", {\"entities\": [(15, 16, \"QUANTITY\"), (17, 24, \"PRODUCT\")]}),\n",
        "    (\"How much is 1 kg tomatoes?\", {\"entities\": [(12, 13, \"QUANTITY\"), (14, 16, \"UNIT\"), (17, 24, \"PRODUCT\")]}),\n",
        "    (\"Price check for 6 avocados.\", {\"entities\": [(17, 18, \"QUANTITY\"), (19, 27, \"PRODUCT\")]}),\n",
        "    (\"Cost of 2 packs of chips?\", {\"entities\": [(9, 10, \"QUANTITY\"), (11, 16, \"UNIT\"), (20, 25, \"PRODUCT\")]}),\n",
        "    (\"I need 10 bottles of water.\", {\"entities\": [(7, 9, \"QUANTITY\"), (10, 16, \"UNIT\"), (20, 25, \"PRODUCT\")]}),\n",
        "    (\"What’s the price of 8 lemons?\", {\"entities\": [(19, 20, \"QUANTITY\"), (21, 27, \"PRODUCT\")]}),\n",
        "    (\"How much for 3 boxes of cereal?\", {\"entities\": [(13, 14, \"QUANTITY\"), (15, 20, \"UNIT\"), (24, 30, \"PRODUCT\")]}),\n",
        "    (\"Price of 1 dozen bananas?\", {\"entities\": [(9, 10, \"QUANTITY\"), (11, 16, \"UNIT\"), (17, 24, \"PRODUCT\")]}),\n",
        "    (\"Cost for 500 ml juice?\", {\"entities\": [(9, 12, \"QUANTITY\"), (13, 15, \"UNIT\"), (16, 21, \"PRODUCT\")]}),\n",
        "    (\"I’d like to order 7 pizzas.\", {\"entities\": [(19, 20, \"QUANTITY\"), (21, 27, \"PRODUCT\")]}),\n",
        "    (\"What is the cost of 2 kg flour?\", {\"entities\": [(19, 20, \"QUANTITY\"), (21, 23, \"UNIT\"), (24, 29, \"PRODUCT\")]}),\n",
        "    (\"Price for 5 cans of soda?\", {\"entities\": [(10, 11, \"QUANTITY\"), (12, 16, \"UNIT\"), (20, 24, \"PRODUCT\")]}),\n",
        "    (\"How much does 1 gallon of oil cost?\", {\"entities\": [(15, 16, \"QUANTITY\"), (17, 23, \"UNIT\"), (27, 30, \"PRODUCT\")]}),\n",
        "    (\"I need 20 bars of chocolate.\", {\"entities\": [(7, 9, \"QUANTITY\"), (10, 14, \"UNIT\"), (18, 27, \"PRODUCT\")]})\n",
        "]\n",
        ""
      ],
      "metadata": {
        "id": "nzqCNzoOgjMi"
      },
      "execution_count": 29,
      "outputs": []
    },
    {
      "cell_type": "code",
      "source": [
        "if 'ner' not in nlp.pipe_names:\n",
        "  ner = nlp.add_pipe('ner')\n",
        "else:\n",
        "  ner = nlp.get_pipe('ner')\n",
        "\n",
        "for _, annotations in train_data:\n",
        "  for ent in annotations.get('entities'):\n",
        "    if ent[2] not in ner.labels:\n",
        "      ner.add_label(ent[2])\n",
        "\n",
        "\n",
        "other_pipes = [pipe for pipe in nlp.pipe_names if pipe != 'ner']\n",
        "with nlp.disable_pipes(*other_pipes):\n",
        "  optimizer = nlp.begin_training()\n",
        "\n",
        "  epochs = 40\n",
        "  for epoch in range(epochs):\n",
        "    random.shuffle(train_data)\n",
        "    losses = {}\n",
        "    batches = minibatch(train_data, size=2)\n",
        "    for batch in batches:\n",
        "      examples = []\n",
        "      for text, annotation in batch:\n",
        "        doc = nlp.make_doc(text)\n",
        "        example = Example.from_dict(doc, annotation)\n",
        "        examples.append(example)\n",
        "      nlp.update(examples, drop=0.5, losses=losses)\n",
        "    print(f'Epoch {epoch + 1}, Loss: {losses}')"
      ],
      "metadata": {
        "colab": {
          "base_uri": "https://localhost:8080/"
        },
        "id": "N1x64sSPjKqV",
        "outputId": "ce78227a-a0dd-4ecf-b953-d0583b5e8347"
      },
      "execution_count": 31,
      "outputs": [
        {
          "output_type": "stream",
          "name": "stderr",
          "text": [
            "/usr/local/lib/python3.11/dist-packages/spacy/training/iob_utils.py:149: UserWarning: [W030] Some entities could not be aligned in the text \"How much does 1 gallon of oil cost?\" with entities \"[(15, 16, 'QUANTITY'), (17, 23, 'UNIT'), (27, 30, ...\". Use `spacy.training.offsets_to_biluo_tags(nlp.make_doc(text), entities)` to check the alignment. Misaligned entities ('-') will be ignored during training.\n",
            "  warnings.warn(\n",
            "/usr/local/lib/python3.11/dist-packages/spacy/training/iob_utils.py:149: UserWarning: [W030] Some entities could not be aligned in the text \"Cost of 1 loaf of bread?\" with entities \"[(9, 10, 'QUANTITY'), (11, 15, 'UNIT'), (19, 24, '...\". Use `spacy.training.offsets_to_biluo_tags(nlp.make_doc(text), entities)` to check the alignment. Misaligned entities ('-') will be ignored during training.\n",
            "  warnings.warn(\n",
            "/usr/local/lib/python3.11/dist-packages/spacy/training/iob_utils.py:149: UserWarning: [W030] Some entities could not be aligned in the text \"What’s the price for 500g sugar?\" with entities \"[(20, 24, 'QUANTITY'), (25, 27, 'UNIT'), (28, 33, ...\". Use `spacy.training.offsets_to_biluo_tags(nlp.make_doc(text), entities)` to check the alignment. Misaligned entities ('-') will be ignored during training.\n",
            "  warnings.warn(\n",
            "/usr/local/lib/python3.11/dist-packages/spacy/training/iob_utils.py:149: UserWarning: [W030] Some entities could not be aligned in the text \"Cost of 2 packs of chips?\" with entities \"[(9, 10, 'QUANTITY'), (11, 16, 'UNIT'), (20, 25, '...\". Use `spacy.training.offsets_to_biluo_tags(nlp.make_doc(text), entities)` to check the alignment. Misaligned entities ('-') will be ignored during training.\n",
            "  warnings.warn(\n",
            "/usr/local/lib/python3.11/dist-packages/spacy/training/iob_utils.py:149: UserWarning: [W030] Some entities could not be aligned in the text \"I’d like to order 7 pizzas.\" with entities \"[(19, 20, 'QUANTITY'), (21, 27, 'PRODUCT')]\". Use `spacy.training.offsets_to_biluo_tags(nlp.make_doc(text), entities)` to check the alignment. Misaligned entities ('-') will be ignored during training.\n",
            "  warnings.warn(\n",
            "/usr/local/lib/python3.11/dist-packages/spacy/training/iob_utils.py:149: UserWarning: [W030] Some entities could not be aligned in the text \"How much does 5 apples cost?\" with entities \"[(15, 16, 'QUANTITY'), (17, 23, 'PRODUCT')]\". Use `spacy.training.offsets_to_biluo_tags(nlp.make_doc(text), entities)` to check the alignment. Misaligned entities ('-') will be ignored during training.\n",
            "  warnings.warn(\n",
            "/usr/local/lib/python3.11/dist-packages/spacy/training/iob_utils.py:149: UserWarning: [W030] Some entities could not be aligned in the text \"Price check for 6 avocados.\" with entities \"[(17, 18, 'QUANTITY'), (19, 27, 'PRODUCT')]\". Use `spacy.training.offsets_to_biluo_tags(nlp.make_doc(text), entities)` to check the alignment. Misaligned entities ('-') will be ignored during training.\n",
            "  warnings.warn(\n",
            "/usr/local/lib/python3.11/dist-packages/spacy/training/iob_utils.py:149: UserWarning: [W030] Some entities could not be aligned in the text \"I want to buy 4 oranges.\" with entities \"[(15, 16, 'QUANTITY'), (17, 24, 'PRODUCT')]\". Use `spacy.training.offsets_to_biluo_tags(nlp.make_doc(text), entities)` to check the alignment. Misaligned entities ('-') will be ignored during training.\n",
            "  warnings.warn(\n",
            "/usr/local/lib/python3.11/dist-packages/spacy/training/iob_utils.py:149: UserWarning: [W030] Some entities could not be aligned in the text \"What’s the price of 8 lemons?\" with entities \"[(19, 20, 'QUANTITY'), (21, 27, 'PRODUCT')]\". Use `spacy.training.offsets_to_biluo_tags(nlp.make_doc(text), entities)` to check the alignment. Misaligned entities ('-') will be ignored during training.\n",
            "  warnings.warn(\n",
            "/usr/local/lib/python3.11/dist-packages/spacy/training/iob_utils.py:149: UserWarning: [W030] Some entities could not be aligned in the text \"How much is 1 kg tomatoes?\" with entities \"[(12, 13, 'QUANTITY'), (14, 16, 'UNIT'), (17, 24, ...\". Use `spacy.training.offsets_to_biluo_tags(nlp.make_doc(text), entities)` to check the alignment. Misaligned entities ('-') will be ignored during training.\n",
            "  warnings.warn(\n",
            "/usr/local/lib/python3.11/dist-packages/spacy/training/iob_utils.py:149: UserWarning: [W030] Some entities could not be aligned in the text \"Can I get 12 eggs?\" with entities \"[(11, 13, 'QUANTITY'), (14, 18, 'PRODUCT')]\". Use `spacy.training.offsets_to_biluo_tags(nlp.make_doc(text), entities)` to check the alignment. Misaligned entities ('-') will be ignored during training.\n",
            "  warnings.warn(\n",
            "/usr/local/lib/python3.11/dist-packages/spacy/training/iob_utils.py:149: UserWarning: [W030] Some entities could not be aligned in the text \"I need 10 bottles of water.\" with entities \"[(7, 9, 'QUANTITY'), (10, 16, 'UNIT'), (20, 25, 'P...\". Use `spacy.training.offsets_to_biluo_tags(nlp.make_doc(text), entities)` to check the alignment. Misaligned entities ('-') will be ignored during training.\n",
            "  warnings.warn(\n",
            "/usr/local/lib/python3.11/dist-packages/spacy/training/iob_utils.py:149: UserWarning: [W030] Some entities could not be aligned in the text \"What is the cost of 2 kg flour?\" with entities \"[(19, 20, 'QUANTITY'), (21, 23, 'UNIT'), (24, 29, ...\". Use `spacy.training.offsets_to_biluo_tags(nlp.make_doc(text), entities)` to check the alignment. Misaligned entities ('-') will be ignored during training.\n",
            "  warnings.warn(\n"
          ]
        },
        {
          "output_type": "stream",
          "name": "stdout",
          "text": [
            "Epoch 1, Loss: {'ner': np.float32(104.83377)}\n",
            "Epoch 2, Loss: {'ner': np.float32(59.655003)}\n",
            "Epoch 3, Loss: {'ner': np.float32(47.618637)}\n",
            "Epoch 4, Loss: {'ner': np.float32(44.587128)}\n",
            "Epoch 5, Loss: {'ner': np.float32(40.77451)}\n",
            "Epoch 6, Loss: {'ner': np.float32(39.598267)}\n",
            "Epoch 7, Loss: {'ner': np.float32(35.661034)}\n",
            "Epoch 8, Loss: {'ner': np.float32(31.648365)}\n",
            "Epoch 9, Loss: {'ner': np.float32(28.289684)}\n",
            "Epoch 10, Loss: {'ner': np.float32(30.53318)}\n",
            "Epoch 11, Loss: {'ner': np.float32(22.54139)}\n",
            "Epoch 12, Loss: {'ner': np.float32(18.58731)}\n",
            "Epoch 13, Loss: {'ner': np.float32(15.5071335)}\n",
            "Epoch 14, Loss: {'ner': np.float32(12.270791)}\n",
            "Epoch 15, Loss: {'ner': np.float32(10.723938)}\n",
            "Epoch 16, Loss: {'ner': np.float32(6.834237)}\n",
            "Epoch 17, Loss: {'ner': np.float32(10.752377)}\n",
            "Epoch 18, Loss: {'ner': np.float32(6.874629)}\n",
            "Epoch 19, Loss: {'ner': np.float32(5.7006207)}\n",
            "Epoch 20, Loss: {'ner': np.float32(7.131642)}\n",
            "Epoch 21, Loss: {'ner': np.float32(5.617788)}\n",
            "Epoch 22, Loss: {'ner': np.float32(4.443148)}\n",
            "Epoch 23, Loss: {'ner': np.float32(5.4666343)}\n",
            "Epoch 24, Loss: {'ner': np.float32(2.0047386)}\n",
            "Epoch 25, Loss: {'ner': np.float32(2.2332447)}\n",
            "Epoch 26, Loss: {'ner': np.float32(5.2522173)}\n",
            "Epoch 27, Loss: {'ner': np.float32(1.8295279)}\n",
            "Epoch 28, Loss: {'ner': np.float32(4.2296233)}\n",
            "Epoch 29, Loss: {'ner': np.float32(0.683304)}\n",
            "Epoch 30, Loss: {'ner': np.float32(0.0010378986)}\n",
            "Epoch 31, Loss: {'ner': np.float32(3.4787803)}\n",
            "Epoch 32, Loss: {'ner': np.float32(0.5329591)}\n",
            "Epoch 33, Loss: {'ner': np.float32(6.933521)}\n",
            "Epoch 34, Loss: {'ner': np.float32(1.3050406)}\n",
            "Epoch 35, Loss: {'ner': np.float32(2.2336805)}\n",
            "Epoch 36, Loss: {'ner': np.float32(1.9318036)}\n",
            "Epoch 37, Loss: {'ner': np.float32(2.3247921)}\n",
            "Epoch 38, Loss: {'ner': np.float32(0.04478317)}\n",
            "Epoch 39, Loss: {'ner': np.float32(1.3620431)}\n",
            "Epoch 40, Loss: {'ner': np.float32(0.039889097)}\n"
          ]
        }
      ]
    },
    {
      "cell_type": "code",
      "source": [
        "nlp.to_disk('custom_ner_model')"
      ],
      "metadata": {
        "id": "EWOyZvKfkwbC"
      },
      "execution_count": 32,
      "outputs": []
    },
    {
      "cell_type": "code",
      "source": [
        "trained_nlp = spacy.load('custom_ner_model')"
      ],
      "metadata": {
        "id": "1NSxI4_llaV0"
      },
      "execution_count": 33,
      "outputs": []
    },
    {
      "cell_type": "code",
      "source": [
        "test_texts = [\n",
        "    'What is the price of 4 bananas',\n",
        "    'How much are 16 chairs',\n",
        "    'Give me the cost of five laptops',\n",
        "    'What is the price of 10 bananas?',\n",
        "    'How much does 5 apples cost?'\n",
        "]"
      ],
      "metadata": {
        "id": "dhlIyBSjldID"
      },
      "execution_count": 37,
      "outputs": []
    },
    {
      "cell_type": "code",
      "source": [
        "# Test the trained model\n",
        "for text in test_texts:\n",
        "    doc = trained_nlp(text)\n",
        "    entities = [(ent.text, ent.label_) for ent in doc.ents]\n",
        "    print(f\"Text: {text}\")\n",
        "    print(f\"Entities: {entities}\")"
      ],
      "metadata": {
        "colab": {
          "base_uri": "https://localhost:8080/"
        },
        "id": "ENAr-GSmnjjd",
        "outputId": "78509069-fecf-4ff0-8665-3c219e6aa818"
      },
      "execution_count": 38,
      "outputs": [
        {
          "output_type": "stream",
          "name": "stdout",
          "text": [
            "Text: What is the price of 4 bananas\n",
            "Entities: [('bananas', 'PRODUCT')]\n",
            "Text: How much are 16 chairs\n",
            "Entities: [('16', 'QUANTITY'), ('chairs', 'PRODUCT')]\n",
            "Text: Give me the cost of five laptops\n",
            "Entities: []\n",
            "Text: What is the price of 10 bananas?\n",
            "Entities: [('10', 'QUANTITY'), ('bananas', 'PRODUCT')]\n",
            "Text: How much does 5 apples cost?\n",
            "Entities: []\n"
          ]
        }
      ]
    }
  ]
}